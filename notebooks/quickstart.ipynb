{
 "cells": [
  {
   "cell_type": "markdown",
   "id": "c632e5d2-8ae8-4bd5-bbec-af19e333098a",
   "metadata": {},
   "source": [
    "# Databento Python client tutorial"
   ]
  },
  {
   "cell_type": "markdown",
   "id": "d9e94dc5-d55e-4c35-b87e-a4de198e8b6b",
   "metadata": {},
   "source": [
    "**Welcome to the Databento official Python client library tutorial!**\n",
    "\n",
    "This tutorial will cover the following:\n",
    "- Using the historical client to request for metadata\n",
    "- Using the historical client to request for time series market data\n",
    "- Working with the `Bento` data I/O helper object\n",
    "\n",
    "**Tips:**\n",
    "- We can call `help()` on any class or method to see the 'docstring'\n"
   ]
  },
  {
   "cell_type": "markdown",
   "id": "32b967f0-0675-4068-bb87-eae331b4d658",
   "metadata": {},
   "source": [
    "## Historical data client\n",
    "\n",
    "Once we have installed the Python client library, we can import it and initialize a historical client for requests.\n",
    "We'll use this `client` throught the remainder of the tutorial.\n",
    "\n",
    "To initialize a client you'll need to provide a valid API access key. You can find these on the 'Access Keys' page of the user portal by logging into your account at https://databento.com."
   ]
  },
  {
   "cell_type": "code",
   "execution_count": 1,
   "id": "9c5f6d59-ef17-4a94-8ba2-b012cec3010d",
   "metadata": {},
   "outputs": [],
   "source": [
    "import databento as db"
   ]
  },
  {
   "cell_type": "code",
   "execution_count": 11,
   "id": "6986408d-325f-4e65-aaea-dad7a32fbee0",
   "metadata": {},
   "outputs": [],
   "source": [
    "client = db.Historical(key=\"YOUR_ACCESS_KEY\")"
   ]
  },
  {
   "cell_type": "markdown",
   "id": "00376c5e-0083-418a-924b-89753bc138e0",
   "metadata": {},
   "source": [
    "## Requesting metadata\n",
    "\n",
    "Before we make any requests for actual data, we can explore various metadata to discover what is available.\n",
    "\n",
    "We'll first initialize a parameters dictionary and use this to pass the values as kwargs to avoid some code duplication."
   ]
  },
  {
   "cell_type": "code",
   "execution_count": 3,
   "id": "c5a0a08d-962a-42ce-8fb8-3bf23741dc7c",
   "metadata": {},
   "outputs": [
    {
     "data": {
      "text/plain": [
       "['GLBX.MDP3', 'XNAS.ITCH']"
      ]
     },
     "execution_count": 3,
     "metadata": {},
     "output_type": "execute_result"
    }
   ],
   "source": [
    "client.metadata.list_datasets()"
   ]
  },
  {
   "cell_type": "code",
   "execution_count": 4,
   "id": "18d41c7e-b82c-4236-b261-e49e089e3e23",
   "metadata": {},
   "outputs": [
    {
     "data": {
      "text/plain": [
       "['mbo',\n",
       " 'mbp-1',\n",
       " 'mbp-10',\n",
       " 'tbbo',\n",
       " 'trades',\n",
       " 'ohlcv-1s',\n",
       " 'ohlcv-1m',\n",
       " 'ohlcv-1h',\n",
       " 'ohlcv-1d',\n",
       " 'definition',\n",
       " 'statistics',\n",
       " 'status']"
      ]
     },
     "execution_count": 4,
     "metadata": {},
     "output_type": "execute_result"
    }
   ],
   "source": [
    "client.metadata.list_schemas(dataset=\"GLBX.MDP3\")"
   ]
  },
  {
   "cell_type": "code",
   "execution_count": 5,
   "id": "047e44d4-7081-4885-bb47-f09fb713c449",
   "metadata": {},
   "outputs": [
    {
     "data": {
      "text/plain": [
       "{'GLBX.MDP3': {'csv': {'trades': {'ts_recv': 'int',\n",
       "    'ts_event': 'int',\n",
       "    'ts_in_delta': 'int',\n",
       "    'pub_id': 'int',\n",
       "    'product_id': 'int',\n",
       "    'action': 'string',\n",
       "    'side': 'string',\n",
       "    'flags': 'int',\n",
       "    'price': 'int',\n",
       "    'size': 'int',\n",
       "    'sequence': 'int'}}}}"
      ]
     },
     "execution_count": 5,
     "metadata": {},
     "output_type": "execute_result"
    }
   ],
   "source": [
    "client.metadata.list_fields(dataset=\"GLBX.MDP3\", schema=\"trades\", encoding=\"csv\")"
   ]
  },
  {
   "cell_type": "code",
   "execution_count": null,
   "id": "2ef363e9-7150-4ace-a2d8-dcc355d73f72",
   "metadata": {},
   "outputs": [],
   "source": []
  },
  {
   "cell_type": "markdown",
   "id": "a295edaa-0cbb-4260-b97b-d3b87cce7ebc",
   "metadata": {},
   "source": [
    "## Requesting time series data\n",
    "\n",
    "Now we will request some historical time series data which will be used throughout the remainder of the tutorial.\n",
    "\n",
    "Here we will request for all E-mini S&P500 futures contracts active between 2020-12-26 and 2020-12-30 using `smart` symbology:"
   ]
  },
  {
   "cell_type": "code",
   "execution_count": 6,
   "id": "fe88dd07-968a-421c-a946-1f73cb9576e5",
   "metadata": {},
   "outputs": [],
   "source": [
    "data = client.timeseries.stream(\n",
    "    dataset=\"GLBX.MDP3\",\n",
    "    symbols=\"ES.FUT\",\n",
    "    stype_in=\"smart\",\n",
    "    schema=\"mbo\",\n",
    "    start=\"2020-12-27\",\n",
    "    end=\"2020-12-30\",\n",
    "    encoding=\"dbz\",\n",
    "    compression=\"zstd\",\n",
    "    limit=1000,  # <-- request limited to 1000 records\n",
    ")"
   ]
  },
  {
   "cell_type": "markdown",
   "id": "33e7c239-6050-4d55-a47a-7366873a5eeb",
   "metadata": {
    "tags": []
   },
   "source": [
    "## Working with the Bento helper object\n",
    "\n",
    "All timeseries data requests will contain an accompanying metadata header which includes:\n",
    "- The original query paramaters\n",
    "- Symbology mappings\n",
    "- Instrument 'mini-definitions'"
   ]
  },
  {
   "cell_type": "markdown",
   "id": "2e14f337-412e-4c2d-ab8c-6c8ad45ed5e4",
   "metadata": {},
   "source": [
    "### Symbology resolution\n",
    "\n",
    "The metadata contains all information which would have been provided in a `symbology.resolve` request:"
   ]
  },
  {
   "cell_type": "code",
   "execution_count": 7,
   "id": "7df4a48e-7c87-4035-af48-bd7abdf09e35",
   "metadata": {},
   "outputs": [
    {
     "data": {
      "text/plain": [
       "{'result': {'ESH1': [{'t0': '2020-12-27', 't1': '2020-12-30', 's': '5482'}],\n",
       "  'ESH1-ESH2': [{'t0': '2020-12-27', 't1': '2020-12-30', 's': '21885'}],\n",
       "  'ESH1-ESM1': [{'t0': '2020-12-27', 't1': '2020-12-30', 's': '19651'}],\n",
       "  'ESH1-ESU1': [{'t0': '2020-12-27', 't1': '2020-12-30', 's': '4223'}],\n",
       "  'ESH1-ESZ1': [{'t0': '2020-12-27', 't1': '2020-12-30', 's': '20076'}],\n",
       "  'ESH2': [{'t0': '2020-12-27', 't1': '2020-12-30', 's': '5782'}],\n",
       "  'ESM1': [{'t0': '2020-12-27', 't1': '2020-12-30', 's': '3853'}],\n",
       "  'ESM1-ESH2': [{'t0': '2020-12-27', 't1': '2020-12-30', 's': '22223'}],\n",
       "  'ESM1-ESU1': [{'t0': '2020-12-27', 't1': '2020-12-30', 's': '4673'}],\n",
       "  'ESM1-ESZ1': [{'t0': '2020-12-27', 't1': '2020-12-30', 's': '22279'}],\n",
       "  'ESU1': [{'t0': '2020-12-27', 't1': '2020-12-30', 's': '1030'}],\n",
       "  'ESU1-ESH2': [{'t0': '2020-12-27', 't1': '2020-12-30', 's': '16280'}],\n",
       "  'ESU1-ESZ1': [{'t0': '2020-12-27', 't1': '2020-12-30', 's': '20117'}],\n",
       "  'ESZ1': [{'t0': '2020-12-27', 't1': '2020-12-30', 's': '8858'}],\n",
       "  'ESZ1-ESH2': [{'t0': '2020-12-27', 't1': '2020-12-30', 's': '16301'}]},\n",
       " 'symbols': ['ES.FUT'],\n",
       " 'stype_in': 'smart',\n",
       " 'stype_out': 'product_id',\n",
       " 'from_date': '2020-12-27',\n",
       " 'to_date': '2020-12-30',\n",
       " 'partial': [],\n",
       " 'not_found': [],\n",
       " 'message': 'OK',\n",
       " 'status': 0}"
      ]
     },
     "execution_count": 7,
     "metadata": {},
     "output_type": "execute_result"
    }
   ],
   "source": [
    "data.symbology"
   ]
  },
  {
   "cell_type": "markdown",
   "id": "28198e3d-756d-4dc4-bb40-8dbcff6c3339",
   "metadata": {},
   "source": [
    "### Symbology mappings\n",
    "\n",
    "A subset of the symbology metadata includes the mappings between the requested symbols 'in' and the symbol type 'out'."
   ]
  },
  {
   "cell_type": "code",
   "execution_count": 8,
   "id": "cd12932a-1be2-475f-b2f4-d1ad581d2ac8",
   "metadata": {},
   "outputs": [
    {
     "data": {
      "text/plain": [
       "{'ESH1': [{'t0': '2020-12-27', 't1': '2020-12-30', 's': '5482'}],\n",
       " 'ESH1-ESH2': [{'t0': '2020-12-27', 't1': '2020-12-30', 's': '21885'}],\n",
       " 'ESH1-ESM1': [{'t0': '2020-12-27', 't1': '2020-12-30', 's': '19651'}],\n",
       " 'ESH1-ESU1': [{'t0': '2020-12-27', 't1': '2020-12-30', 's': '4223'}],\n",
       " 'ESH1-ESZ1': [{'t0': '2020-12-27', 't1': '2020-12-30', 's': '20076'}],\n",
       " 'ESH2': [{'t0': '2020-12-27', 't1': '2020-12-30', 's': '5782'}],\n",
       " 'ESM1': [{'t0': '2020-12-27', 't1': '2020-12-30', 's': '3853'}],\n",
       " 'ESM1-ESH2': [{'t0': '2020-12-27', 't1': '2020-12-30', 's': '22223'}],\n",
       " 'ESM1-ESU1': [{'t0': '2020-12-27', 't1': '2020-12-30', 's': '4673'}],\n",
       " 'ESM1-ESZ1': [{'t0': '2020-12-27', 't1': '2020-12-30', 's': '22279'}],\n",
       " 'ESU1': [{'t0': '2020-12-27', 't1': '2020-12-30', 's': '1030'}],\n",
       " 'ESU1-ESH2': [{'t0': '2020-12-27', 't1': '2020-12-30', 's': '16280'}],\n",
       " 'ESU1-ESZ1': [{'t0': '2020-12-27', 't1': '2020-12-30', 's': '20117'}],\n",
       " 'ESZ1': [{'t0': '2020-12-27', 't1': '2020-12-30', 's': '8858'}],\n",
       " 'ESZ1-ESH2': [{'t0': '2020-12-27', 't1': '2020-12-30', 's': '16301'}]}"
      ]
     },
     "execution_count": 8,
     "metadata": {},
     "output_type": "execute_result"
    }
   ],
   "source": [
    "data.mappings"
   ]
  },
  {
   "cell_type": "markdown",
   "id": "5c105245-93b1-4c0e-98d8-9978d0afa5bf",
   "metadata": {},
   "source": [
    "### Instrument definitions\n",
    "\n",
    "The metadata also contains 'mini-definitions', which are a subset of the full `definition` schema (also available through the `timeseries` endpoint)."
   ]
  },
  {
   "cell_type": "code",
   "execution_count": 9,
   "id": "201a2cd1-b344-450d-97d3-f682c775433e",
   "metadata": {},
   "outputs": [
    {
     "data": {
      "text/plain": [
       "[{'pub_id': 1,\n",
       "  'symbol': 'ESH1',\n",
       "  'asset': 'ES',\n",
       "  'security_type': 'FUT',\n",
       "  'min_price_increment': 25000000000,\n",
       "  'display_factor': 10000000,\n",
       "  'expiration': 1616160600000000000,\n",
       "  'currency': 'USD',\n",
       "  'ts_event': 1609088715926494829},\n",
       " {'pub_id': 1,\n",
       "  'symbol': 'ESH2',\n",
       "  'asset': 'ES',\n",
       "  'security_type': 'FUT',\n",
       "  'min_price_increment': 25000000000,\n",
       "  'display_factor': 10000000,\n",
       "  'expiration': 1647610200000000000,\n",
       "  'currency': 'USD',\n",
       "  'ts_event': 1609088715926494829},\n",
       " {'pub_id': 1,\n",
       "  'symbol': 'ESM1',\n",
       "  'asset': 'ES',\n",
       "  'security_type': 'FUT',\n",
       "  'min_price_increment': 25000000000,\n",
       "  'display_factor': 10000000,\n",
       "  'expiration': 1624023000000000000,\n",
       "  'currency': 'USD',\n",
       "  'ts_event': 1609088715926494829},\n",
       " {'pub_id': 1,\n",
       "  'symbol': 'ESZ1',\n",
       "  'asset': 'ES',\n",
       "  'security_type': 'FUT',\n",
       "  'min_price_increment': 25000000000,\n",
       "  'display_factor': 10000000,\n",
       "  'expiration': 1639751400000000000,\n",
       "  'currency': 'USD',\n",
       "  'ts_event': 1609088715926494829},\n",
       " {'pub_id': 1,\n",
       "  'symbol': 'ESU1',\n",
       "  'asset': 'ES',\n",
       "  'security_type': 'FUT',\n",
       "  'min_price_increment': 25000000000,\n",
       "  'display_factor': 10000000,\n",
       "  'expiration': 1631885400000000000,\n",
       "  'currency': 'USD',\n",
       "  'ts_event': 1609088715926494829},\n",
       " {'pub_id': 1,\n",
       "  'symbol': 'ESU1-ESZ1',\n",
       "  'asset': 'ES',\n",
       "  'security_type': 'FUT',\n",
       "  'min_price_increment': 5000000000,\n",
       "  'display_factor': 10000000,\n",
       "  'expiration': 1631885400000000000,\n",
       "  'currency': 'USD',\n",
       "  'ts_event': 1609088715926494829},\n",
       " {'pub_id': 1,\n",
       "  'symbol': 'ESH1-ESZ1',\n",
       "  'asset': 'ES',\n",
       "  'security_type': 'FUT',\n",
       "  'min_price_increment': 5000000000,\n",
       "  'display_factor': 10000000,\n",
       "  'expiration': 1616160600000000000,\n",
       "  'currency': 'USD',\n",
       "  'ts_event': 1609088715926494829},\n",
       " {'pub_id': 1,\n",
       "  'symbol': 'ESM1-ESZ1',\n",
       "  'asset': 'ES',\n",
       "  'security_type': 'FUT',\n",
       "  'min_price_increment': 5000000000,\n",
       "  'display_factor': 10000000,\n",
       "  'expiration': 1624023000000000000,\n",
       "  'currency': 'USD',\n",
       "  'ts_event': 1609088715926494829},\n",
       " {'pub_id': 1,\n",
       "  'symbol': 'ESZ1-ESH2',\n",
       "  'asset': 'ES',\n",
       "  'security_type': 'FUT',\n",
       "  'min_price_increment': 5000000000,\n",
       "  'display_factor': 10000000,\n",
       "  'expiration': 1639751400000000000,\n",
       "  'currency': 'USD',\n",
       "  'ts_event': 1609088715926494829},\n",
       " {'pub_id': 1,\n",
       "  'symbol': 'ESH1-ESM1',\n",
       "  'asset': 'ES',\n",
       "  'security_type': 'FUT',\n",
       "  'min_price_increment': 5000000000,\n",
       "  'display_factor': 10000000,\n",
       "  'expiration': 1616160600000000000,\n",
       "  'currency': 'USD',\n",
       "  'ts_event': 1609088715926494829},\n",
       " {'pub_id': 1,\n",
       "  'symbol': 'ESM1-ESU1',\n",
       "  'asset': 'ES',\n",
       "  'security_type': 'FUT',\n",
       "  'min_price_increment': 5000000000,\n",
       "  'display_factor': 10000000,\n",
       "  'expiration': 1624023000000000000,\n",
       "  'currency': 'USD',\n",
       "  'ts_event': 1609088715926494829},\n",
       " {'pub_id': 1,\n",
       "  'symbol': 'ESH1-ESH2',\n",
       "  'asset': 'ES',\n",
       "  'security_type': 'FUT',\n",
       "  'min_price_increment': 5000000000,\n",
       "  'display_factor': 10000000,\n",
       "  'expiration': 1616160600000000000,\n",
       "  'currency': 'USD',\n",
       "  'ts_event': 1609088715926494829},\n",
       " {'pub_id': 1,\n",
       "  'symbol': 'ESU1-ESH2',\n",
       "  'asset': 'ES',\n",
       "  'security_type': 'FUT',\n",
       "  'min_price_increment': 5000000000,\n",
       "  'display_factor': 10000000,\n",
       "  'expiration': 1631885400000000000,\n",
       "  'currency': 'USD',\n",
       "  'ts_event': 1609088715926494829},\n",
       " {'pub_id': 1,\n",
       "  'symbol': 'ESH1-ESU1',\n",
       "  'asset': 'ES',\n",
       "  'security_type': 'FUT',\n",
       "  'min_price_increment': 5000000000,\n",
       "  'display_factor': 10000000,\n",
       "  'expiration': 1616160600000000000,\n",
       "  'currency': 'USD',\n",
       "  'ts_event': 1609088715926494829},\n",
       " {'pub_id': 1,\n",
       "  'symbol': 'ESM1-ESH2',\n",
       "  'asset': 'ES',\n",
       "  'security_type': 'FUT',\n",
       "  'min_price_increment': 5000000000,\n",
       "  'display_factor': 10000000,\n",
       "  'expiration': 1624023000000000000,\n",
       "  'currency': 'USD',\n",
       "  'ts_event': 1609088715926494829}]"
      ]
     },
     "execution_count": 9,
     "metadata": {},
     "output_type": "execute_result"
    }
   ],
   "source": [
    "data.definitions"
   ]
  },
  {
   "cell_type": "code",
   "execution_count": 10,
   "id": "3097ad00-2bd8-4413-ae0b-b6de1501e916",
   "metadata": {},
   "outputs": [
    {
     "data": {
      "text/plain": [
       "[{'pub_id': 1,\n",
       "  'symbol': 'ESH1-ESU1',\n",
       "  'asset': 'ES',\n",
       "  'security_type': 'FUT',\n",
       "  'min_price_increment': 5000000000,\n",
       "  'display_factor': 10000000,\n",
       "  'expiration': 1616160600000000000,\n",
       "  'currency': 'USD',\n",
       "  'ts_event': 1609088715926494829}]"
      ]
     },
     "execution_count": 10,
     "metadata": {},
     "output_type": "execute_result"
    }
   ],
   "source": [
    "data.instrument('ESH1-ESU1')"
   ]
  },
  {
   "cell_type": "code",
   "execution_count": null,
   "id": "bbb41272-a8e4-4536-8688-519cb69c40b4",
   "metadata": {},
   "outputs": [],
   "source": []
  }
 ],
 "metadata": {
  "kernelspec": {
   "display_name": "Python 3 (ipykernel)",
   "language": "python",
   "name": "python3"
  },
  "language_info": {
   "codemirror_mode": {
    "name": "ipython",
    "version": 3
   },
   "file_extension": ".py",
   "mimetype": "text/x-python",
   "name": "python",
   "nbconvert_exporter": "python",
   "pygments_lexer": "ipython3",
   "version": "3.7.13"
  }
 },
 "nbformat": 4,
 "nbformat_minor": 5
}
