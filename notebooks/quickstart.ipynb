{
 "cells": [
  {
   "cell_type": "markdown",
   "id": "c632e5d2-8ae8-4bd5-bbec-af19e333098a",
   "metadata": {},
   "source": [
    "# Databento Python client quickstart"
   ]
  },
  {
   "cell_type": "markdown",
   "id": "d9e94dc5-d55e-4c35-b87e-a4de198e8b6b",
   "metadata": {},
   "source": [
    "**Welcome to the Databento client library quickstart tutorial!**\n",
    "\n",
    "We'll walk through how to use our client library's functionality to work with the data available from Databento.\n",
    "\n",
    "Note: \n",
    "\n",
    "For information on our symbology, refer to https://docs.databento.com/reference-historical/basics/symbology. \n",
    "\n",
    "For a more detailed API reference, refer to https://docs.databento.com/reference-historical.\n",
    "\n",
    "This tutorial covers the following:\n",
    "- Using the historical client to request metadata\n",
    "- Using the historical client to request time series market data\n",
    "- Working with Bento data I/O helper objects\n",
    "- Using the historical client to make batch data requests\n",
    "- Querying batch job states\n",
    "\n",
    "**Tip:** You can call help() on any class or method to see the 'docstring.'"
   ]
  },
  {
   "cell_type": "markdown",
   "id": "cc202926-5681-498c-a08a-db7df5e8b2fb",
   "metadata": {},
   "source": [
    "## Installation and setup"
   ]
  },
  {
   "cell_type": "markdown",
   "id": "d4ee19bb-f273-456f-8557-bc27ed75481a",
   "metadata": {},
   "source": [
    "Firtly, ensure you have the latest `databento` client library installed:\n",
    "```bash\n",
    "pip install -U databento\n",
    "```"
   ]
  },
  {
   "cell_type": "markdown",
   "id": "32b967f0-0675-4068-bb87-eae331b4d658",
   "metadata": {},
   "source": [
    "## Historical data client\n",
    "\n",
    "Once you've installed the Python client library, you can import it and initialize a historical client for requests. We'll use this `client` throughout the rest of the tutorial.\n",
    "\n",
    "To initialize a client, you need to provide a valid API key. You can find these on the API Keys page of your Databento portal at https://databento.com."
   ]
  },
  {
   "cell_type": "code",
   "execution_count": 2,
   "id": "9c5f6d59-ef17-4a94-8ba2-b012cec3010d",
   "metadata": {},
   "outputs": [],
   "source": [
    "import databento as db"
   ]
  },
  {
   "cell_type": "code",
   "execution_count": 44,
   "id": "6986408d-325f-4e65-aaea-dad7a32fbee0",
   "metadata": {},
   "outputs": [],
   "source": [
    "client = db.Historical(key=\"YOUR_API_KEY\")"
   ]
  },
  {
   "cell_type": "markdown",
   "id": "00376c5e-0083-418a-924b-89753bc138e0",
   "metadata": {},
   "source": [
    "## Requesting metadata\n",
    "\n",
    "Before we make any requests for actual data, we can look into the metadata to see what is available to download."
   ]
  },
  {
   "cell_type": "code",
   "execution_count": 5,
   "id": "c5a0a08d-962a-42ce-8fb8-3bf23741dc7c",
   "metadata": {},
   "outputs": [
    {
     "data": {
      "text/plain": [
       "['GLBX.MDP3', 'XNAS.ITCH']"
      ]
     },
     "execution_count": 5,
     "metadata": {},
     "output_type": "execute_result"
    }
   ],
   "source": [
    "client.metadata.list_datasets()"
   ]
  },
  {
   "cell_type": "code",
   "execution_count": 8,
   "id": "18d41c7e-b82c-4236-b261-e49e089e3e23",
   "metadata": {},
   "outputs": [
    {
     "data": {
      "text/plain": [
       "['mbo',\n",
       " 'mbp-1',\n",
       " 'mbp-10',\n",
       " 'tbbo',\n",
       " 'trades',\n",
       " 'ohlcv-1s',\n",
       " 'ohlcv-1m',\n",
       " 'ohlcv-1h',\n",
       " 'ohlcv-1d',\n",
       " 'definition',\n",
       " 'statistics',\n",
       " 'status']"
      ]
     },
     "execution_count": 8,
     "metadata": {},
     "output_type": "execute_result"
    }
   ],
   "source": [
    "client.metadata.list_schemas(dataset=\"GLBX.MDP3\")"
   ]
  },
  {
   "cell_type": "code",
   "execution_count": 11,
   "id": "047e44d4-7081-4885-bb47-f09fb713c449",
   "metadata": {},
   "outputs": [
    {
     "data": {
      "text/plain": [
       "{'GLBX.MDP3': {'csv': {'trades': {'ts_recv': 'int',\n",
       "    'ts_event': 'int',\n",
       "    'ts_in_delta': 'int',\n",
       "    'publisher_id': 'int',\n",
       "    'product_id': 'int',\n",
       "    'action': 'string',\n",
       "    'side': 'string',\n",
       "    'flags': 'int',\n",
       "    'price': 'int',\n",
       "    'size': 'int',\n",
       "    'sequence': 'int'}}}}"
      ]
     },
     "execution_count": 11,
     "metadata": {},
     "output_type": "execute_result"
    }
   ],
   "source": [
    "client.metadata.list_fields(dataset=\"GLBX.MDP3\", schema=\"trades\", encoding=\"csv\")"
   ]
  },
  {
   "cell_type": "code",
   "execution_count": 12,
   "id": "2ef363e9-7150-4ace-a2d8-dcc355d73f72",
   "metadata": {},
   "outputs": [
    {
     "data": {
      "text/plain": [
       "['dbz', 'csv', 'json']"
      ]
     },
     "execution_count": 12,
     "metadata": {},
     "output_type": "execute_result"
    }
   ],
   "source": [
    "client.metadata.list_encodings()"
   ]
  },
  {
   "cell_type": "code",
   "execution_count": 13,
   "id": "25a67ca8-10f0-41cb-a932-95a5e8dcd5f1",
   "metadata": {},
   "outputs": [
    {
     "data": {
      "text/plain": [
       "['none', 'zstd']"
      ]
     },
     "execution_count": 13,
     "metadata": {},
     "output_type": "execute_result"
    }
   ],
   "source": [
    "client.metadata.list_compressions()"
   ]
  },
  {
   "cell_type": "markdown",
   "id": "a335a762-bba0-4de5-bde3-8bce006691c9",
   "metadata": {},
   "source": [
    "### Unit cost / GB\n",
    "\n",
    "To get the unit cost / GB of all the different data schemas, use this API call to the `list_unit_prices` function."
   ]
  },
  {
   "cell_type": "code",
   "execution_count": 14,
   "id": "3b0eec87-6b2e-4498-83c4-60efb7a140e0",
   "metadata": {},
   "outputs": [
    {
     "data": {
      "text/plain": [
       "{'historical-streaming': {'mbo': 21.05,\n",
       "  'mbp-1': 82.05,\n",
       "  'mbp-10': 31.95,\n",
       "  'tbbo': 22.56,\n",
       "  'trades': 67.76,\n",
       "  'ohlcv-1s': 78.68,\n",
       "  'ohlcv-1m': 63.32,\n",
       "  'ohlcv-1h': 52.91,\n",
       "  'ohlcv-1d': 41.5,\n",
       "  'definition': 66.8,\n",
       "  'statistics': 97.92,\n",
       "  'status': 62.72}}"
      ]
     },
     "execution_count": 14,
     "metadata": {},
     "output_type": "execute_result"
    }
   ],
   "source": [
    "client.metadata.list_unit_prices(dataset=\"GLBX.MDP3\", mode=\"historical-streaming\")"
   ]
  },
  {
   "cell_type": "markdown",
   "id": "a295edaa-0cbb-4260-b97b-d3b87cce7ebc",
   "metadata": {},
   "source": [
    "### Parameter setup for data cost query\n",
    "\n",
    "First, instantiate a dictionary of the query parameters for the data you're interested in."
   ]
  },
  {
   "cell_type": "code",
   "execution_count": 17,
   "id": "367e6608-5dbe-4fcd-9104-b367e001e2bf",
   "metadata": {},
   "outputs": [],
   "source": [
    "params = {\n",
    "    \"dataset\": \"GLBX.MDP3\",\n",
    "    \"symbols\": \"ES.FUT\",\n",
    "    \"stype_in\": \"smart\",\n",
    "    \"schema\": \"mbo\",\n",
    "    \"start\": \"2020-12-27\",\n",
    "    \"end\": \"2020-12-30\",\n",
    "}"
   ]
  },
  {
   "cell_type": "markdown",
   "id": "58cf7143-b6fb-4788-9889-f2b558c05d4f",
   "metadata": {},
   "source": [
    "### Data cost\n",
    "Before making a request for data, you can query the expected price in USD. The price is determined from the following formula: `unit_cost` * `uncompressed_size_GB`."
   ]
  },
  {
   "cell_type": "code",
   "execution_count": 18,
   "id": "60a9422e-1da0-4f72-9ecc-bed622a9988c",
   "metadata": {},
   "outputs": [
    {
     "data": {
      "text/plain": [
       "13.778901880607009"
      ]
     },
     "execution_count": 18,
     "metadata": {},
     "output_type": "execute_result"
    }
   ],
   "source": [
    "client.metadata.get_cost(**params)"
   ]
  },
  {
   "cell_type": "markdown",
   "id": "f288a29c-c68e-407b-80a5-f6d3c136e17a",
   "metadata": {},
   "source": [
    "## Requesting time series data\n",
    "\n",
    "The rest of this tutorial involves historical time series data. Here's how to request for this data.\n",
    "\n",
    "The historical time series data is streamed into an in-memory buffer encapsulated by a `Bento` object, which we'll use later to work with the data.\n",
    "\n",
    "The following code sample requests for all E-mini S&P500 futures contract outrights, active between 2020-12-27 and 2020-12-30 using `smart` symbology."
   ]
  },
  {
   "cell_type": "code",
   "execution_count": 19,
   "id": "fe88dd07-968a-421c-a946-1f73cb9576e5",
   "metadata": {},
   "outputs": [],
   "source": [
    "data = client.timeseries.stream(\n",
    "    **params,\n",
    "    limit=1000,  # <-- request limited to 1000 records\n",
    ")"
   ]
  },
  {
   "cell_type": "code",
   "execution_count": 20,
   "id": "5d867614-76ad-48f1-88e8-b839b6c0ffb6",
   "metadata": {},
   "outputs": [],
   "source": [
    "import pandas as pd"
   ]
  },
  {
   "cell_type": "markdown",
   "id": "33e7c239-6050-4d55-a47a-7366873a5eeb",
   "metadata": {
    "tags": []
   },
   "source": [
    "## Working with the Bento helper object\n",
    "\n",
    "All time series data requests include a metadata header with the following specifications:\n",
    "- The original query paramaters (these can be used to re-request the data)\n",
    "- Data shape\n",
    "- Symbology mappings\n",
    "- Instrument 'mini-definitions'"
   ]
  },
  {
   "cell_type": "markdown",
   "id": "826b8e0f-65b3-4ce1-9453-e1d63924b98f",
   "metadata": {},
   "source": [
    "### Metadata properties"
   ]
  },
  {
   "cell_type": "code",
   "execution_count": 21,
   "id": "41318aee-3ffe-45cd-8218-08777537e2d2",
   "metadata": {},
   "outputs": [
    {
     "data": {
      "text/plain": [
       "'GLBX.MDP3'"
      ]
     },
     "execution_count": 21,
     "metadata": {},
     "output_type": "execute_result"
    }
   ],
   "source": [
    "data.dataset"
   ]
  },
  {
   "cell_type": "code",
   "execution_count": 22,
   "id": "fd329859-dd1e-4315-b6e9-ae79f3761306",
   "metadata": {},
   "outputs": [
    {
     "data": {
      "text/plain": [
       "<Schema.MBO: 'mbo'>"
      ]
     },
     "execution_count": 22,
     "metadata": {},
     "output_type": "execute_result"
    }
   ],
   "source": [
    "data.schema"
   ]
  },
  {
   "cell_type": "code",
   "execution_count": 23,
   "id": "9dd6aaf8-47f9-4153-bbcf-6403d435bb32",
   "metadata": {},
   "outputs": [
    {
     "data": {
      "text/plain": [
       "['ES.FUT']"
      ]
     },
     "execution_count": 23,
     "metadata": {},
     "output_type": "execute_result"
    }
   ],
   "source": [
    "data.symbols"
   ]
  },
  {
   "cell_type": "code",
   "execution_count": 24,
   "id": "ad313e09-3887-4a64-9aba-fc49ebfd7761",
   "metadata": {},
   "outputs": [
    {
     "data": {
      "text/plain": [
       "<SType.SMART: 'smart'>"
      ]
     },
     "execution_count": 24,
     "metadata": {},
     "output_type": "execute_result"
    }
   ],
   "source": [
    "data.stype_in"
   ]
  },
  {
   "cell_type": "code",
   "execution_count": 25,
   "id": "a5e2683e-fe9a-43f0-bcc5-dc5933ee37da",
   "metadata": {},
   "outputs": [
    {
     "data": {
      "text/plain": [
       "<SType.PRODUCT_ID: 'product_id'>"
      ]
     },
     "execution_count": 25,
     "metadata": {},
     "output_type": "execute_result"
    }
   ],
   "source": [
    "data.stype_out"
   ]
  },
  {
   "cell_type": "code",
   "execution_count": 26,
   "id": "2013de29-346a-4903-b304-280d1ef265d2",
   "metadata": {},
   "outputs": [
    {
     "data": {
      "text/plain": [
       "Timestamp('2020-12-27 00:00:00+0000', tz='UTC')"
      ]
     },
     "execution_count": 26,
     "metadata": {},
     "output_type": "execute_result"
    }
   ],
   "source": [
    "data.start"
   ]
  },
  {
   "cell_type": "code",
   "execution_count": 27,
   "id": "f712b3f8-60ec-4ac1-baa9-d755fc046aef",
   "metadata": {},
   "outputs": [
    {
     "data": {
      "text/plain": [
       "Timestamp('2020-12-30 00:00:00+0000', tz='UTC')"
      ]
     },
     "execution_count": 27,
     "metadata": {},
     "output_type": "execute_result"
    }
   ],
   "source": [
    "data.end"
   ]
  },
  {
   "cell_type": "code",
   "execution_count": 28,
   "id": "057cf57d-9ab9-44bb-9327-c1f2df56c7fa",
   "metadata": {},
   "outputs": [
    {
     "data": {
      "text/plain": [
       "1000"
      ]
     },
     "execution_count": 28,
     "metadata": {},
     "output_type": "execute_result"
    }
   ],
   "source": [
    "data.limit"
   ]
  },
  {
   "cell_type": "code",
   "execution_count": 29,
   "id": "e6c68d7a-ab0d-4f41-8a31-7865783c5c50",
   "metadata": {},
   "outputs": [
    {
     "data": {
      "text/plain": [
       "<Encoding.DBZ: 'dbz'>"
      ]
     },
     "execution_count": 29,
     "metadata": {},
     "output_type": "execute_result"
    }
   ],
   "source": [
    "data.encoding"
   ]
  },
  {
   "cell_type": "code",
   "execution_count": 30,
   "id": "337b3de4-2d86-4772-a740-5dc302711bde",
   "metadata": {},
   "outputs": [
    {
     "data": {
      "text/plain": [
       "<Compression.ZSTD: 'zstd'>"
      ]
     },
     "execution_count": 30,
     "metadata": {},
     "output_type": "execute_result"
    }
   ],
   "source": [
    "data.compression"
   ]
  },
  {
   "cell_type": "code",
   "execution_count": 31,
   "id": "97bc0031-be8b-43cd-b9a4-1c5d2c388a28",
   "metadata": {},
   "outputs": [
    {
     "data": {
      "text/plain": [
       "(1000, 14)"
      ]
     },
     "execution_count": 31,
     "metadata": {},
     "output_type": "execute_result"
    }
   ],
   "source": [
    "data.shape"
   ]
  },
  {
   "cell_type": "code",
   "execution_count": 32,
   "id": "3075f725-b435-411d-97e0-1c29992923e3",
   "metadata": {},
   "outputs": [
    {
     "data": {
      "text/plain": [
       "dtype([('nwords', 'u1'), ('type', 'u1'), ('publisher_id', '<u2'), ('product_id', '<u4'), ('ts_event', '<u8'), ('order_id', '<u8'), ('price', '<i8'), ('size', '<u4'), ('flags', 'i1'), ('channel_id', 'u1'), ('action', 'S1'), ('side', 'S1'), ('ts_recv', '<u8'), ('ts_in_delta', '<i4'), ('sequence', '<u4')])"
      ]
     },
     "execution_count": 32,
     "metadata": {},
     "output_type": "execute_result"
    }
   ],
   "source": [
    "data.dtype"
   ]
  },
  {
   "cell_type": "code",
   "execution_count": 33,
   "id": "661fd055-20c2-4e8d-8f2e-2f500225ef73",
   "metadata": {},
   "outputs": [
    {
     "data": {
      "text/plain": [
       "56"
      ]
     },
     "execution_count": 33,
     "metadata": {},
     "output_type": "execute_result"
    }
   ],
   "source": [
    "data.struct_size"
   ]
  },
  {
   "cell_type": "markdown",
   "id": "2e14f337-412e-4c2d-ab8c-6c8ad45ed5e4",
   "metadata": {},
   "source": [
    "### Symbology resolution\n",
    "\n",
    "The metadata contains all information which would have been provided in a `symbology.resolve` request:"
   ]
  },
  {
   "cell_type": "code",
   "execution_count": 34,
   "id": "7df4a48e-7c87-4035-af48-bd7abdf09e35",
   "metadata": {},
   "outputs": [
    {
     "data": {
      "text/plain": [
       "{'result': {'ESH1': [{'t0': '2020-12-27', 't1': '2020-12-30', 's': '5482'}],\n",
       "  'ESH1-ESH2': [{'t0': '2020-12-27', 't1': '2020-12-30', 's': '21885'}],\n",
       "  'ESH1-ESM1': [{'t0': '2020-12-27', 't1': '2020-12-30', 's': '19651'}],\n",
       "  'ESH1-ESU1': [{'t0': '2020-12-27', 't1': '2020-12-30', 's': '4223'}],\n",
       "  'ESH1-ESZ1': [{'t0': '2020-12-27', 't1': '2020-12-30', 's': '20076'}],\n",
       "  'ESH2': [{'t0': '2020-12-27', 't1': '2020-12-30', 's': '5782'}],\n",
       "  'ESM1': [{'t0': '2020-12-27', 't1': '2020-12-30', 's': '3853'}],\n",
       "  'ESM1-ESH2': [{'t0': '2020-12-27', 't1': '2020-12-30', 's': '22223'}],\n",
       "  'ESM1-ESU1': [{'t0': '2020-12-27', 't1': '2020-12-30', 's': '4673'}],\n",
       "  'ESM1-ESZ1': [{'t0': '2020-12-27', 't1': '2020-12-30', 's': '22279'}],\n",
       "  'ESU1': [{'t0': '2020-12-27', 't1': '2020-12-30', 's': '1030'}],\n",
       "  'ESU1-ESH2': [{'t0': '2020-12-27', 't1': '2020-12-30', 's': '16280'}],\n",
       "  'ESU1-ESZ1': [{'t0': '2020-12-27', 't1': '2020-12-30', 's': '20117'}],\n",
       "  'ESZ1': [{'t0': '2020-12-27', 't1': '2020-12-30', 's': '8858'}],\n",
       "  'ESZ1-ESH2': [{'t0': '2020-12-27', 't1': '2020-12-30', 's': '16301'}]},\n",
       " 'symbols': ['ES.FUT'],\n",
       " 'stype_in': 'smart',\n",
       " 'stype_out': 'product_id',\n",
       " 'start_date': '2020-12-27',\n",
       " 'end_date': '2020-12-30',\n",
       " 'partial': [],\n",
       " 'not_found': [],\n",
       " 'message': 'OK',\n",
       " 'status': 0}"
      ]
     },
     "execution_count": 34,
     "metadata": {},
     "output_type": "execute_result"
    }
   ],
   "source": [
    "data.symbology"
   ]
  },
  {
   "cell_type": "markdown",
   "id": "28198e3d-756d-4dc4-bb40-8dbcff6c3339",
   "metadata": {},
   "source": [
    "### Symbology mappings\n",
    "\n",
    "A subset of the symbology metadata includes mappings — per date interval — between the requested symbols `stype_in` and the specified `stype_out`."
   ]
  },
  {
   "cell_type": "code",
   "execution_count": 35,
   "id": "cd12932a-1be2-475f-b2f4-d1ad581d2ac8",
   "metadata": {},
   "outputs": [
    {
     "data": {
      "text/plain": [
       "{'ESH1': [{'t0': '2020-12-27', 't1': '2020-12-30', 's': '5482'}],\n",
       " 'ESH1-ESH2': [{'t0': '2020-12-27', 't1': '2020-12-30', 's': '21885'}],\n",
       " 'ESH1-ESM1': [{'t0': '2020-12-27', 't1': '2020-12-30', 's': '19651'}],\n",
       " 'ESH1-ESU1': [{'t0': '2020-12-27', 't1': '2020-12-30', 's': '4223'}],\n",
       " 'ESH1-ESZ1': [{'t0': '2020-12-27', 't1': '2020-12-30', 's': '20076'}],\n",
       " 'ESH2': [{'t0': '2020-12-27', 't1': '2020-12-30', 's': '5782'}],\n",
       " 'ESM1': [{'t0': '2020-12-27', 't1': '2020-12-30', 's': '3853'}],\n",
       " 'ESM1-ESH2': [{'t0': '2020-12-27', 't1': '2020-12-30', 's': '22223'}],\n",
       " 'ESM1-ESU1': [{'t0': '2020-12-27', 't1': '2020-12-30', 's': '4673'}],\n",
       " 'ESM1-ESZ1': [{'t0': '2020-12-27', 't1': '2020-12-30', 's': '22279'}],\n",
       " 'ESU1': [{'t0': '2020-12-27', 't1': '2020-12-30', 's': '1030'}],\n",
       " 'ESU1-ESH2': [{'t0': '2020-12-27', 't1': '2020-12-30', 's': '16280'}],\n",
       " 'ESU1-ESZ1': [{'t0': '2020-12-27', 't1': '2020-12-30', 's': '20117'}],\n",
       " 'ESZ1': [{'t0': '2020-12-27', 't1': '2020-12-30', 's': '8858'}],\n",
       " 'ESZ1-ESH2': [{'t0': '2020-12-27', 't1': '2020-12-30', 's': '16301'}]}"
      ]
     },
     "execution_count": 35,
     "metadata": {},
     "output_type": "execute_result"
    }
   ],
   "source": [
    "data.mappings"
   ]
  },
  {
   "cell_type": "markdown",
   "id": "5c105245-93b1-4c0e-98d8-9978d0afa5bf",
   "metadata": {},
   "source": [
    "### Instrument definitions\n",
    "\n",
    "The metadata also contains 'mini-definitions,' which are a subset of the full `definition` schema. The full instrument definitions — including all data from the exchange — can be obtained in a separate request."
   ]
  },
  {
   "cell_type": "markdown",
   "id": "b41bb8b1-55b1-4a84-9575-2cf760605b97",
   "metadata": {},
   "source": [
    "### Pandas DataFrame"
   ]
  },
  {
   "cell_type": "markdown",
   "id": "b9de74ac-2f1b-443d-9ec3-80ade416107a",
   "metadata": {},
   "source": [
    "To construct a pandas `DataFrame` from the data, you can call the `.to_df()` method."
   ]
  },
  {
   "cell_type": "code",
   "execution_count": 38,
   "id": "023585c5-2911-4532-b6c5-329b003a6f4b",
   "metadata": {},
   "outputs": [
    {
     "data": {
      "text/html": [
       "<div>\n",
       "<style scoped>\n",
       "    .dataframe tbody tr th:only-of-type {\n",
       "        vertical-align: middle;\n",
       "    }\n",
       "\n",
       "    .dataframe tbody tr th {\n",
       "        vertical-align: top;\n",
       "    }\n",
       "\n",
       "    .dataframe thead th {\n",
       "        text-align: right;\n",
       "    }\n",
       "</style>\n",
       "<table border=\"1\" class=\"dataframe\">\n",
       "  <thead>\n",
       "    <tr style=\"text-align: right;\">\n",
       "      <th></th>\n",
       "      <th>ts_event</th>\n",
       "      <th>ts_in_delta</th>\n",
       "      <th>publisher_id</th>\n",
       "      <th>product_id</th>\n",
       "      <th>order_id</th>\n",
       "      <th>action</th>\n",
       "      <th>side</th>\n",
       "      <th>flags</th>\n",
       "      <th>price</th>\n",
       "      <th>size</th>\n",
       "      <th>sequence</th>\n",
       "    </tr>\n",
       "    <tr>\n",
       "      <th>ts_recv</th>\n",
       "      <th></th>\n",
       "      <th></th>\n",
       "      <th></th>\n",
       "      <th></th>\n",
       "      <th></th>\n",
       "      <th></th>\n",
       "      <th></th>\n",
       "      <th></th>\n",
       "      <th></th>\n",
       "      <th></th>\n",
       "      <th></th>\n",
       "    </tr>\n",
       "  </thead>\n",
       "  <tbody>\n",
       "    <tr>\n",
       "      <th>2020-12-27 20:00:25.252293395+00:00</th>\n",
       "      <td>2020-12-27 20:00:25.061045683+00:00</td>\n",
       "      <td>26179</td>\n",
       "      <td>1</td>\n",
       "      <td>5482</td>\n",
       "      <td>647773887134</td>\n",
       "      <td>B</td>\n",
       "      <td>A</td>\n",
       "      <td>0</td>\n",
       "      <td>3634.00</td>\n",
       "      <td>10</td>\n",
       "      <td>1124</td>\n",
       "    </tr>\n",
       "    <tr>\n",
       "      <th>2020-12-27 20:00:25.252293395+00:00</th>\n",
       "      <td>2020-12-27 20:00:25.061045683+00:00</td>\n",
       "      <td>26179</td>\n",
       "      <td>1</td>\n",
       "      <td>5482</td>\n",
       "      <td>647773887135</td>\n",
       "      <td>B</td>\n",
       "      <td>A</td>\n",
       "      <td>0</td>\n",
       "      <td>3634.00</td>\n",
       "      <td>10</td>\n",
       "      <td>1124</td>\n",
       "    </tr>\n",
       "    <tr>\n",
       "      <th>2020-12-27 20:00:25.252293395+00:00</th>\n",
       "      <td>2020-12-27 20:00:25.061045683+00:00</td>\n",
       "      <td>26179</td>\n",
       "      <td>1</td>\n",
       "      <td>5482</td>\n",
       "      <td>647773887136</td>\n",
       "      <td>B</td>\n",
       "      <td>A</td>\n",
       "      <td>0</td>\n",
       "      <td>3634.25</td>\n",
       "      <td>10</td>\n",
       "      <td>1124</td>\n",
       "    </tr>\n",
       "    <tr>\n",
       "      <th>2020-12-27 20:00:25.252293395+00:00</th>\n",
       "      <td>2020-12-27 20:00:25.061045683+00:00</td>\n",
       "      <td>26179</td>\n",
       "      <td>1</td>\n",
       "      <td>5482</td>\n",
       "      <td>647773887137</td>\n",
       "      <td>B</td>\n",
       "      <td>A</td>\n",
       "      <td>0</td>\n",
       "      <td>3634.25</td>\n",
       "      <td>10</td>\n",
       "      <td>1124</td>\n",
       "    </tr>\n",
       "    <tr>\n",
       "      <th>2020-12-27 20:00:25.252293395+00:00</th>\n",
       "      <td>2020-12-27 20:00:25.061045683+00:00</td>\n",
       "      <td>26179</td>\n",
       "      <td>1</td>\n",
       "      <td>5482</td>\n",
       "      <td>647773887138</td>\n",
       "      <td>B</td>\n",
       "      <td>A</td>\n",
       "      <td>0</td>\n",
       "      <td>3634.50</td>\n",
       "      <td>19</td>\n",
       "      <td>1124</td>\n",
       "    </tr>\n",
       "    <tr>\n",
       "      <th>2020-12-27 20:00:25.252293395+00:00</th>\n",
       "      <td>2020-12-27 20:00:25.061045683+00:00</td>\n",
       "      <td>26179</td>\n",
       "      <td>1</td>\n",
       "      <td>5482</td>\n",
       "      <td>647773887139</td>\n",
       "      <td>B</td>\n",
       "      <td>A</td>\n",
       "      <td>0</td>\n",
       "      <td>3634.50</td>\n",
       "      <td>1</td>\n",
       "      <td>1124</td>\n",
       "    </tr>\n",
       "    <tr>\n",
       "      <th>2020-12-27 20:00:25.252293395+00:00</th>\n",
       "      <td>2020-12-27 20:00:25.061045683+00:00</td>\n",
       "      <td>26179</td>\n",
       "      <td>1</td>\n",
       "      <td>5482</td>\n",
       "      <td>647773887140</td>\n",
       "      <td>B</td>\n",
       "      <td>A</td>\n",
       "      <td>0</td>\n",
       "      <td>3634.75</td>\n",
       "      <td>5</td>\n",
       "      <td>1124</td>\n",
       "    </tr>\n",
       "    <tr>\n",
       "      <th>2020-12-27 20:00:25.252293395+00:00</th>\n",
       "      <td>2020-12-27 20:00:25.061045683+00:00</td>\n",
       "      <td>26179</td>\n",
       "      <td>1</td>\n",
       "      <td>5482</td>\n",
       "      <td>647773887141</td>\n",
       "      <td>B</td>\n",
       "      <td>A</td>\n",
       "      <td>0</td>\n",
       "      <td>3634.75</td>\n",
       "      <td>5</td>\n",
       "      <td>1124</td>\n",
       "    </tr>\n",
       "    <tr>\n",
       "      <th>2020-12-27 20:00:25.252293395+00:00</th>\n",
       "      <td>2020-12-27 20:00:25.061045683+00:00</td>\n",
       "      <td>26179</td>\n",
       "      <td>1</td>\n",
       "      <td>5482</td>\n",
       "      <td>647773887142</td>\n",
       "      <td>B</td>\n",
       "      <td>A</td>\n",
       "      <td>0</td>\n",
       "      <td>3634.75</td>\n",
       "      <td>5</td>\n",
       "      <td>1124</td>\n",
       "    </tr>\n",
       "    <tr>\n",
       "      <th>2020-12-27 20:00:25.252293395+00:00</th>\n",
       "      <td>2020-12-27 20:00:25.061045683+00:00</td>\n",
       "      <td>26179</td>\n",
       "      <td>1</td>\n",
       "      <td>5482</td>\n",
       "      <td>647773887143</td>\n",
       "      <td>B</td>\n",
       "      <td>A</td>\n",
       "      <td>0</td>\n",
       "      <td>3634.75</td>\n",
       "      <td>5</td>\n",
       "      <td>1124</td>\n",
       "    </tr>\n",
       "    <tr>\n",
       "      <th>2020-12-27 20:00:25.252293395+00:00</th>\n",
       "      <td>2020-12-27 20:00:25.061045683+00:00</td>\n",
       "      <td>26179</td>\n",
       "      <td>1</td>\n",
       "      <td>5482</td>\n",
       "      <td>647773887144</td>\n",
       "      <td>B</td>\n",
       "      <td>A</td>\n",
       "      <td>0</td>\n",
       "      <td>3635.00</td>\n",
       "      <td>13</td>\n",
       "      <td>1124</td>\n",
       "    </tr>\n",
       "    <tr>\n",
       "      <th>2020-12-27 20:00:25.252293395+00:00</th>\n",
       "      <td>2020-12-27 20:00:25.061045683+00:00</td>\n",
       "      <td>26179</td>\n",
       "      <td>1</td>\n",
       "      <td>5482</td>\n",
       "      <td>647773887145</td>\n",
       "      <td>B</td>\n",
       "      <td>A</td>\n",
       "      <td>0</td>\n",
       "      <td>3635.00</td>\n",
       "      <td>2</td>\n",
       "      <td>1124</td>\n",
       "    </tr>\n",
       "    <tr>\n",
       "      <th>2020-12-27 20:00:25.252293395+00:00</th>\n",
       "      <td>2020-12-27 20:00:25.061045683+00:00</td>\n",
       "      <td>26179</td>\n",
       "      <td>1</td>\n",
       "      <td>5482</td>\n",
       "      <td>647773887146</td>\n",
       "      <td>B</td>\n",
       "      <td>A</td>\n",
       "      <td>0</td>\n",
       "      <td>3635.00</td>\n",
       "      <td>5</td>\n",
       "      <td>1124</td>\n",
       "    </tr>\n",
       "    <tr>\n",
       "      <th>2020-12-27 20:00:25.252293395+00:00</th>\n",
       "      <td>2020-12-27 20:00:25.061045683+00:00</td>\n",
       "      <td>26179</td>\n",
       "      <td>1</td>\n",
       "      <td>5482</td>\n",
       "      <td>647773887147</td>\n",
       "      <td>B</td>\n",
       "      <td>A</td>\n",
       "      <td>0</td>\n",
       "      <td>3635.25</td>\n",
       "      <td>13</td>\n",
       "      <td>1124</td>\n",
       "    </tr>\n",
       "    <tr>\n",
       "      <th>2020-12-27 20:00:25.252293395+00:00</th>\n",
       "      <td>2020-12-27 20:00:25.061045683+00:00</td>\n",
       "      <td>26179</td>\n",
       "      <td>1</td>\n",
       "      <td>5482</td>\n",
       "      <td>647773887148</td>\n",
       "      <td>B</td>\n",
       "      <td>A</td>\n",
       "      <td>0</td>\n",
       "      <td>3635.25</td>\n",
       "      <td>4</td>\n",
       "      <td>1124</td>\n",
       "    </tr>\n",
       "    <tr>\n",
       "      <th>2020-12-27 20:00:25.252293395+00:00</th>\n",
       "      <td>2020-12-27 20:00:25.061045683+00:00</td>\n",
       "      <td>26179</td>\n",
       "      <td>1</td>\n",
       "      <td>5482</td>\n",
       "      <td>647773887149</td>\n",
       "      <td>B</td>\n",
       "      <td>A</td>\n",
       "      <td>0</td>\n",
       "      <td>3635.25</td>\n",
       "      <td>3</td>\n",
       "      <td>1124</td>\n",
       "    </tr>\n",
       "    <tr>\n",
       "      <th>2020-12-27 20:00:25.252293395+00:00</th>\n",
       "      <td>2020-12-27 20:00:25.061045683+00:00</td>\n",
       "      <td>26179</td>\n",
       "      <td>1</td>\n",
       "      <td>5482</td>\n",
       "      <td>647773887150</td>\n",
       "      <td>B</td>\n",
       "      <td>A</td>\n",
       "      <td>0</td>\n",
       "      <td>3635.50</td>\n",
       "      <td>10</td>\n",
       "      <td>1124</td>\n",
       "    </tr>\n",
       "    <tr>\n",
       "      <th>2020-12-27 20:00:25.252293395+00:00</th>\n",
       "      <td>2020-12-27 20:00:25.061045683+00:00</td>\n",
       "      <td>26179</td>\n",
       "      <td>1</td>\n",
       "      <td>5482</td>\n",
       "      <td>647773887151</td>\n",
       "      <td>B</td>\n",
       "      <td>A</td>\n",
       "      <td>128</td>\n",
       "      <td>3635.50</td>\n",
       "      <td>10</td>\n",
       "      <td>1124</td>\n",
       "    </tr>\n",
       "    <tr>\n",
       "      <th>2020-12-27 20:00:25.252346963+00:00</th>\n",
       "      <td>2020-12-27 20:00:25.061045683+00:00</td>\n",
       "      <td>25295</td>\n",
       "      <td>1</td>\n",
       "      <td>5482</td>\n",
       "      <td>647773887152</td>\n",
       "      <td>B</td>\n",
       "      <td>A</td>\n",
       "      <td>0</td>\n",
       "      <td>3635.75</td>\n",
       "      <td>20</td>\n",
       "      <td>1125</td>\n",
       "    </tr>\n",
       "    <tr>\n",
       "      <th>2020-12-27 20:00:25.252346963+00:00</th>\n",
       "      <td>2020-12-27 20:00:25.061045683+00:00</td>\n",
       "      <td>25295</td>\n",
       "      <td>1</td>\n",
       "      <td>5482</td>\n",
       "      <td>647773887153</td>\n",
       "      <td>B</td>\n",
       "      <td>A</td>\n",
       "      <td>0</td>\n",
       "      <td>3636.00</td>\n",
       "      <td>5</td>\n",
       "      <td>1125</td>\n",
       "    </tr>\n",
       "  </tbody>\n",
       "</table>\n",
       "</div>"
      ],
      "text/plain": [
       "                                                               ts_event  \\\n",
       "ts_recv                                                                   \n",
       "2020-12-27 20:00:25.252293395+00:00 2020-12-27 20:00:25.061045683+00:00   \n",
       "2020-12-27 20:00:25.252293395+00:00 2020-12-27 20:00:25.061045683+00:00   \n",
       "2020-12-27 20:00:25.252293395+00:00 2020-12-27 20:00:25.061045683+00:00   \n",
       "2020-12-27 20:00:25.252293395+00:00 2020-12-27 20:00:25.061045683+00:00   \n",
       "2020-12-27 20:00:25.252293395+00:00 2020-12-27 20:00:25.061045683+00:00   \n",
       "2020-12-27 20:00:25.252293395+00:00 2020-12-27 20:00:25.061045683+00:00   \n",
       "2020-12-27 20:00:25.252293395+00:00 2020-12-27 20:00:25.061045683+00:00   \n",
       "2020-12-27 20:00:25.252293395+00:00 2020-12-27 20:00:25.061045683+00:00   \n",
       "2020-12-27 20:00:25.252293395+00:00 2020-12-27 20:00:25.061045683+00:00   \n",
       "2020-12-27 20:00:25.252293395+00:00 2020-12-27 20:00:25.061045683+00:00   \n",
       "2020-12-27 20:00:25.252293395+00:00 2020-12-27 20:00:25.061045683+00:00   \n",
       "2020-12-27 20:00:25.252293395+00:00 2020-12-27 20:00:25.061045683+00:00   \n",
       "2020-12-27 20:00:25.252293395+00:00 2020-12-27 20:00:25.061045683+00:00   \n",
       "2020-12-27 20:00:25.252293395+00:00 2020-12-27 20:00:25.061045683+00:00   \n",
       "2020-12-27 20:00:25.252293395+00:00 2020-12-27 20:00:25.061045683+00:00   \n",
       "2020-12-27 20:00:25.252293395+00:00 2020-12-27 20:00:25.061045683+00:00   \n",
       "2020-12-27 20:00:25.252293395+00:00 2020-12-27 20:00:25.061045683+00:00   \n",
       "2020-12-27 20:00:25.252293395+00:00 2020-12-27 20:00:25.061045683+00:00   \n",
       "2020-12-27 20:00:25.252346963+00:00 2020-12-27 20:00:25.061045683+00:00   \n",
       "2020-12-27 20:00:25.252346963+00:00 2020-12-27 20:00:25.061045683+00:00   \n",
       "\n",
       "                                     ts_in_delta  publisher_id  product_id  \\\n",
       "ts_recv                                                                \n",
       "2020-12-27 20:00:25.252293395+00:00        26179       1        5482   \n",
       "2020-12-27 20:00:25.252293395+00:00        26179       1        5482   \n",
       "2020-12-27 20:00:25.252293395+00:00        26179       1        5482   \n",
       "2020-12-27 20:00:25.252293395+00:00        26179       1        5482   \n",
       "2020-12-27 20:00:25.252293395+00:00        26179       1        5482   \n",
       "2020-12-27 20:00:25.252293395+00:00        26179       1        5482   \n",
       "2020-12-27 20:00:25.252293395+00:00        26179       1        5482   \n",
       "2020-12-27 20:00:25.252293395+00:00        26179       1        5482   \n",
       "2020-12-27 20:00:25.252293395+00:00        26179       1        5482   \n",
       "2020-12-27 20:00:25.252293395+00:00        26179       1        5482   \n",
       "2020-12-27 20:00:25.252293395+00:00        26179       1        5482   \n",
       "2020-12-27 20:00:25.252293395+00:00        26179       1        5482   \n",
       "2020-12-27 20:00:25.252293395+00:00        26179       1        5482   \n",
       "2020-12-27 20:00:25.252293395+00:00        26179       1        5482   \n",
       "2020-12-27 20:00:25.252293395+00:00        26179       1        5482   \n",
       "2020-12-27 20:00:25.252293395+00:00        26179       1        5482   \n",
       "2020-12-27 20:00:25.252293395+00:00        26179       1        5482   \n",
       "2020-12-27 20:00:25.252293395+00:00        26179       1        5482   \n",
       "2020-12-27 20:00:25.252346963+00:00        25295       1        5482   \n",
       "2020-12-27 20:00:25.252346963+00:00        25295       1        5482   \n",
       "\n",
       "                                         order_id action side  flags    price  \\\n",
       "ts_recv                                                                         \n",
       "2020-12-27 20:00:25.252293395+00:00  647773887134      B    A      0  3634.00   \n",
       "2020-12-27 20:00:25.252293395+00:00  647773887135      B    A      0  3634.00   \n",
       "2020-12-27 20:00:25.252293395+00:00  647773887136      B    A      0  3634.25   \n",
       "2020-12-27 20:00:25.252293395+00:00  647773887137      B    A      0  3634.25   \n",
       "2020-12-27 20:00:25.252293395+00:00  647773887138      B    A      0  3634.50   \n",
       "2020-12-27 20:00:25.252293395+00:00  647773887139      B    A      0  3634.50   \n",
       "2020-12-27 20:00:25.252293395+00:00  647773887140      B    A      0  3634.75   \n",
       "2020-12-27 20:00:25.252293395+00:00  647773887141      B    A      0  3634.75   \n",
       "2020-12-27 20:00:25.252293395+00:00  647773887142      B    A      0  3634.75   \n",
       "2020-12-27 20:00:25.252293395+00:00  647773887143      B    A      0  3634.75   \n",
       "2020-12-27 20:00:25.252293395+00:00  647773887144      B    A      0  3635.00   \n",
       "2020-12-27 20:00:25.252293395+00:00  647773887145      B    A      0  3635.00   \n",
       "2020-12-27 20:00:25.252293395+00:00  647773887146      B    A      0  3635.00   \n",
       "2020-12-27 20:00:25.252293395+00:00  647773887147      B    A      0  3635.25   \n",
       "2020-12-27 20:00:25.252293395+00:00  647773887148      B    A      0  3635.25   \n",
       "2020-12-27 20:00:25.252293395+00:00  647773887149      B    A      0  3635.25   \n",
       "2020-12-27 20:00:25.252293395+00:00  647773887150      B    A      0  3635.50   \n",
       "2020-12-27 20:00:25.252293395+00:00  647773887151      B    A    128  3635.50   \n",
       "2020-12-27 20:00:25.252346963+00:00  647773887152      B    A      0  3635.75   \n",
       "2020-12-27 20:00:25.252346963+00:00  647773887153      B    A      0  3636.00   \n",
       "\n",
       "                                     size  sequence  \n",
       "ts_recv                                              \n",
       "2020-12-27 20:00:25.252293395+00:00    10      1124  \n",
       "2020-12-27 20:00:25.252293395+00:00    10      1124  \n",
       "2020-12-27 20:00:25.252293395+00:00    10      1124  \n",
       "2020-12-27 20:00:25.252293395+00:00    10      1124  \n",
       "2020-12-27 20:00:25.252293395+00:00    19      1124  \n",
       "2020-12-27 20:00:25.252293395+00:00     1      1124  \n",
       "2020-12-27 20:00:25.252293395+00:00     5      1124  \n",
       "2020-12-27 20:00:25.252293395+00:00     5      1124  \n",
       "2020-12-27 20:00:25.252293395+00:00     5      1124  \n",
       "2020-12-27 20:00:25.252293395+00:00     5      1124  \n",
       "2020-12-27 20:00:25.252293395+00:00    13      1124  \n",
       "2020-12-27 20:00:25.252293395+00:00     2      1124  \n",
       "2020-12-27 20:00:25.252293395+00:00     5      1124  \n",
       "2020-12-27 20:00:25.252293395+00:00    13      1124  \n",
       "2020-12-27 20:00:25.252293395+00:00     4      1124  \n",
       "2020-12-27 20:00:25.252293395+00:00     3      1124  \n",
       "2020-12-27 20:00:25.252293395+00:00    10      1124  \n",
       "2020-12-27 20:00:25.252293395+00:00    10      1124  \n",
       "2020-12-27 20:00:25.252346963+00:00    20      1125  \n",
       "2020-12-27 20:00:25.252346963+00:00     5      1125  "
      ]
     },
     "execution_count": 38,
     "metadata": {},
     "output_type": "execute_result"
    }
   ],
   "source": [
    "df = data.to_df(pretty_px=True, pretty_ts=True)\n",
    "df.head(20)"
   ]
  },
  {
   "cell_type": "markdown",
   "id": "392f402d-b325-4d61-9053-76e38dbb021e",
   "metadata": {},
   "source": [
    "### Numpy arrays\n",
    "\n",
    "To cast the data to an array of individual records represented as `np.ndarray`(s), you can call the `to_ndarray()` method.\n",
    "\n"
   ]
  },
  {
   "cell_type": "code",
   "execution_count": null,
   "id": "23dbe271-0379-46f0-ae47-1f33a7b708e5",
   "metadata": {},
   "outputs": [
    {
     "data": {
      "text/plain": [
       "array([(14, 32, 1, 5482, 1609099225061045683, 647439984644, 315950000000000,  2, 0, 0, b'B', b'A', 1609099225250461359, 92701, 1098),\n",
       "       (14, 32, 1, 5482, 1609099225061045683, 647439984689, 310550000000000,  3, 0, 0, b'B', b'A', 1609099225250461359, 92701, 1098),\n",
       "       (14, 32, 1, 5482, 1609099225061045683, 647508324609, 330000000000000,  2, 0, 0, b'B', b'A', 1609099225250461359, 92701, 1098),\n",
       "       (14, 32, 1, 5482, 1609099225061045683, 647530969859, 287000000000000, 10, 0, 0, b'B', b'A', 1609099225250461359, 92701, 1098),\n",
       "       (14, 32, 1, 5482, 1609099225061045683, 647570749552, 321325000000000,  1, 0, 0, b'B', b'A', 1609099225250461359, 92701, 1098),\n",
       "       (14, 32, 1, 5482, 1609099225061045683, 647570749560, 321225000000000,  1, 0, 0, b'B', b'A', 1609099225250461359, 92701, 1098),\n",
       "       (14, 32, 1, 5482, 1609099225061045683, 647570749656, 321125000000000,  1, 0, 0, b'B', b'A', 1609099225250461359, 92701, 1098),\n",
       "       (14, 32, 1, 5482, 1609099225061045683, 647570749727, 321025000000000,  1, 0, 0, b'B', b'A', 1609099225250461359, 92701, 1098),\n",
       "       (14, 32, 1, 5482, 1609099225061045683, 647570749776, 320925000000000,  1, 0, 0, b'B', b'A', 1609099225250461359, 92701, 1098),\n",
       "       (14, 32, 1, 5482, 1609099225061045683, 647570749868, 320825000000000,  1, 0, 0, b'B', b'A', 1609099225250461359, 92701, 1098)],\n",
       "      dtype=[('nwords', 'u1'), ('type', 'u1'), ('publisher_id', '<u2'), ('product_id', '<u4'), ('ts_event', '<u8'), ('order_id', '<u8'), ('price', '<i8'), ('size', '<u4'), ('flags', 'i1'), ('channel_id', 'u1'), ('action', 'S1'), ('side', 'S1'), ('ts_recv', '<u8'), ('ts_in_delta', '<i4'), ('sequence', '<u4')])"
      ]
     },
     "execution_count": 31,
     "metadata": {},
     "output_type": "execute_result"
    }
   ],
   "source": [
    "data.to_ndarray()[:10]"
   ]
  },
  {
   "cell_type": "markdown",
   "id": "6560afef-877a-4e31-8cd9-11465081c88e",
   "metadata": {},
   "source": [
    "### Replay\n",
    "\n",
    "To replay the time series data stream record by record to a handlers callback, you can use the `.replay(callback)` method."
   ]
  },
  {
   "cell_type": "code",
   "execution_count": null,
   "id": "9aff99e1-1e62-4b22-901f-373b4133a261",
   "metadata": {},
   "outputs": [],
   "source": [
    "def my_handler(record):\n",
    "    # backtesting / trading strategies (event-driven)\n",
    "    print(record)"
   ]
  },
  {
   "cell_type": "code",
   "execution_count": null,
   "id": "415ade36-1654-4bce-850b-0ae3bfc468b0",
   "metadata": {},
   "outputs": [],
   "source": [
    "# data.replay(my_handler)"
   ]
  },
  {
   "cell_type": "markdown",
   "id": "f04d163a-5c9b-4d98-925a-13750e5a802c",
   "metadata": {},
   "source": [
    "## Writing data to disk\n",
    "\n",
    "You can write the raw DBZ data to disk using the `.to_file()` method.\n",
    "\n"
   ]
  },
  {
   "cell_type": "code",
   "execution_count": 40,
   "id": "20a07bde-c70f-41f6-bc93-b0e3907819b8",
   "metadata": {},
   "outputs": [
    {
     "data": {
      "text/plain": [
       "<databento.common.bento.FileBento at 0x7f9ede557340>"
      ]
     },
     "execution_count": 40,
     "metadata": {},
     "output_type": "execute_result"
    }
   ],
   "source": [
    "data.to_file(\"test.dbz\")"
   ]
  },
  {
   "cell_type": "markdown",
   "id": "842d9ef1-9518-4a73-a177-57bcbe448869",
   "metadata": {},
   "source": [
    "You can also write to disk as CSV or JSON."
   ]
  },
  {
   "cell_type": "code",
   "execution_count": 41,
   "id": "92c62480-5fac-4342-b091-0f5654605e20",
   "metadata": {},
   "outputs": [],
   "source": [
    "data.to_csv(\"my_data.csv\")"
   ]
  },
  {
   "cell_type": "code",
   "execution_count": 42,
   "id": "16ae4a8b-5c77-4f2f-8ac3-9b21e4bc5187",
   "metadata": {},
   "outputs": [],
   "source": [
    "data.to_json(\"my_data.json\")"
   ]
  },
  {
   "cell_type": "markdown",
   "id": "97ee06db-a6be-4be7-84d1-3197d5261da7",
   "metadata": {},
   "source": [
    "## Time series batch requests"
   ]
  },
  {
   "cell_type": "markdown",
   "id": "fadf448e",
   "metadata": {},
   "source": [
    "The client library can also make batch data requests to the Databento API."
   ]
  },
  {
   "cell_type": "code",
   "execution_count": null,
   "id": "e1002ece-da46-4aab-9434-556fab131f9a",
   "metadata": {},
   "outputs": [
    {
     "data": {
      "text/plain": [
       "{'id': 'GLBX-20220720-BTW9J5HY5C',\n",
       " 'user_id': '46PCMCVF',\n",
       " 'bill_id': '3eaf1158',\n",
       " 'dataset': 'GLBX.MDP3',\n",
       " 'symbols': 'ESH1',\n",
       " 'stype_in': 'native',\n",
       " 'stype_out': 'product_id',\n",
       " 'schema': 'trades',\n",
       " 'start': '2020-12-27 12:00:00+00:00',\n",
       " 'end': '2020-12-29 00:00:00+00:00',\n",
       " 'limit': 100,\n",
       " 'encoding': 'dbz',\n",
       " 'compression': 'zstd',\n",
       " 'split_duration': 'day',\n",
       " 'split_size': None,\n",
       " 'packaging': 'none',\n",
       " 'delivery': 'download',\n",
       " 'is_example': False,\n",
       " 'record_count': 100,\n",
       " 'billed_size': 4800,\n",
       " 'actual_size': None,\n",
       " 'package_size': None,\n",
       " 'state': 'queued',\n",
       " 'ts_received': '2022-07-20 07:26:45.617296+00:00',\n",
       " 'ts_queued': None,\n",
       " 'ts_process_start': None,\n",
       " 'ts_process_done': None,\n",
       " 'ts_expiration': None}"
      ]
     },
     "execution_count": 34,
     "metadata": {},
     "output_type": "execute_result"
    }
   ],
   "source": [
    "client.batch.submit_job(\n",
    "    dataset=\"GLBX.MDP3\",\n",
    "    symbols=[\"ESH1\"],\n",
    "    schema=\"trades\",\n",
    "    start=\"2020-12-27T12:00\",\n",
    "    end=\"2020-12-29\",\n",
    "    encoding=\"dbz\",\n",
    "    delivery=\"download\",\n",
    "    compression=\"zstd\",\n",
    "    limit=1000,  # <-- request limited to 1000 records\n",
    ")"
   ]
  },
  {
   "cell_type": "markdown",
   "id": "ec29b7b2-612a-4bbe-bd70-460b08e3866e",
   "metadata": {},
   "source": [
    "## Querying batch job state\n",
    "\n",
    "It's possible to query for a list of your batch jobs, with optional filter parameters for `state` and `since`. This could help to programatically build and manage larger data pipelines."
   ]
  },
  {
   "cell_type": "code",
   "execution_count": null,
   "id": "fc75af05-74d1-4868-9d9e-f3f4da107d99",
   "metadata": {},
   "outputs": [
    {
     "data": {
      "text/plain": [
       "[{'id': 'GLBX-20220720-BTW9J5HY5C',\n",
       "  'user_id': '46PCMCVF',\n",
       "  'bill_id': '3eaf1158',\n",
       "  'dataset': 'GLBX.MDP3',\n",
       "  'symbols': 'ESH1',\n",
       "  'stype_in': 'native',\n",
       "  'stype_out': 'product_id',\n",
       "  'schema': 'trades',\n",
       "  'start': '2020-12-27 12:00:00+00:00',\n",
       "  'end': '2020-12-29 00:00:00+00:00',\n",
       "  'limit': 100,\n",
       "  'encoding': 'dbz',\n",
       "  'compression': 'zstd',\n",
       "  'split_duration': 'day',\n",
       "  'split_size': None,\n",
       "  'packaging': 'none',\n",
       "  'delivery': 'download',\n",
       "  'is_example': False,\n",
       "  'record_count': 100,\n",
       "  'billed_size': 4800,\n",
       "  'actual_size': None,\n",
       "  'package_size': None,\n",
       "  'state': 'queued',\n",
       "  'ts_received': '2022-07-20 07:26:45.617296+00:00',\n",
       "  'ts_queued': '2022-07-20 07:26:46.395321+00:00',\n",
       "  'ts_process_start': None,\n",
       "  'ts_process_done': None,\n",
       "  'ts_expiration': None,\n",
       "  'progress': 0}]"
      ]
     },
     "execution_count": 35,
     "metadata": {},
     "output_type": "execute_result"
    }
   ],
   "source": [
    "client.batch.list_jobs(since=pd.Timestamp.utcnow() - pd.Timedelta(minutes=5))"
   ]
  }
 ],
 "metadata": {
  "kernelspec": {
   "display_name": "Python 3 (ipykernel)",
   "language": "python",
   "name": "python3"
  },
  "language_info": {
   "codemirror_mode": {
    "name": "ipython",
    "version": 3
   },
   "file_extension": ".py",
   "mimetype": "text/x-python",
   "name": "python",
   "nbconvert_exporter": "python",
   "pygments_lexer": "ipython3",
   "version": "3.9.13"
  }
 },
 "nbformat": 4,
 "nbformat_minor": 5
}
