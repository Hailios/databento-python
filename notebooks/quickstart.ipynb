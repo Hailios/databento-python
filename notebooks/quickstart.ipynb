{
 "cells": [
  {
   "cell_type": "markdown",
   "id": "c632e5d2-8ae8-4bd5-bbec-af19e333098a",
   "metadata": {},
   "source": [
    "# Databento Python client quickstart"
   ]
  },
  {
   "cell_type": "markdown",
   "id": "d9e94dc5-d55e-4c35-b87e-a4de198e8b6b",
   "metadata": {},
   "source": [
    "**Welcome to the Databento official Python client library quickstart tutorial!**\n",
    "\n",
    "Learn how to utilize the functionality provided through the client library to request and analyse the data available from Databento.\n",
    "\n",
    "This tutorial will cover the following:\n",
    "- Using the historical client to request for metadata\n",
    "- Using the historical client to request for time series market data\n",
    "- Working with `Bento` data I/O helper objects\n",
    "\n",
    "**Tips:**\n",
    "- We can call `help()` on any class or method to see the 'docstring'\n"
   ]
  },
  {
   "cell_type": "markdown",
   "id": "32b967f0-0675-4068-bb87-eae331b4d658",
   "metadata": {},
   "source": [
    "## Historical data client\n",
    "\n",
    "Once we have installed the Python client library, we can import it and initialize a historical client for requests.\n",
    "We'll use this `client` throught the remainder of the tutorial.\n",
    "\n",
    "To initialize a client you'll need to provide a valid API access key. You can find these on the 'Access Keys' page of the user portal by logging into your account at https://databento.com."
   ]
  },
  {
   "cell_type": "code",
   "execution_count": 1,
   "id": "9c5f6d59-ef17-4a94-8ba2-b012cec3010d",
   "metadata": {},
   "outputs": [],
   "source": [
    "import databento as db"
   ]
  },
  {
   "cell_type": "code",
   "execution_count": 2,
   "id": "6986408d-325f-4e65-aaea-dad7a32fbee0",
   "metadata": {},
   "outputs": [],
   "source": [
    "client = db.Historical(key=\"YOUR_ACCESS_KEY\")"
   ]
  },
  {
   "cell_type": "markdown",
   "id": "00376c5e-0083-418a-924b-89753bc138e0",
   "metadata": {},
   "source": [
    "## Requesting metadata\n",
    "\n",
    "Before we make any requests for actual data, we can explore various metadata to discover what is available."
   ]
  },
  {
   "cell_type": "code",
   "execution_count": 3,
   "id": "c5a0a08d-962a-42ce-8fb8-3bf23741dc7c",
   "metadata": {},
   "outputs": [
    {
     "data": {
      "text/plain": [
       "['GLBX.MDP3', 'XNAS.ITCH']"
      ]
     },
     "execution_count": 3,
     "metadata": {},
     "output_type": "execute_result"
    }
   ],
   "source": [
    "client.metadata.list_datasets()"
   ]
  },
  {
   "cell_type": "code",
   "execution_count": 4,
   "id": "18d41c7e-b82c-4236-b261-e49e089e3e23",
   "metadata": {},
   "outputs": [
    {
     "data": {
      "text/plain": [
       "['mbo',\n",
       " 'mbp-1',\n",
       " 'mbp-10',\n",
       " 'tbbo',\n",
       " 'trades',\n",
       " 'ohlcv-1s',\n",
       " 'ohlcv-1m',\n",
       " 'ohlcv-1h',\n",
       " 'ohlcv-1d',\n",
       " 'definition',\n",
       " 'statistics',\n",
       " 'status']"
      ]
     },
     "execution_count": 4,
     "metadata": {},
     "output_type": "execute_result"
    }
   ],
   "source": [
    "client.metadata.list_schemas(dataset=\"GLBX.MDP3\")"
   ]
  },
  {
   "cell_type": "code",
   "execution_count": 5,
   "id": "047e44d4-7081-4885-bb47-f09fb713c449",
   "metadata": {},
   "outputs": [
    {
     "data": {
      "text/plain": [
       "{'GLBX.MDP3': {'csv': {'trades': {'ts_recv': 'int',\n",
       "    'ts_event': 'int',\n",
       "    'ts_in_delta': 'int',\n",
       "    'pub_id': 'int',\n",
       "    'product_id': 'int',\n",
       "    'action': 'string',\n",
       "    'side': 'string',\n",
       "    'flags': 'int',\n",
       "    'price': 'int',\n",
       "    'size': 'int',\n",
       "    'sequence': 'int'}}}}"
      ]
     },
     "execution_count": 5,
     "metadata": {},
     "output_type": "execute_result"
    }
   ],
   "source": [
    "client.metadata.list_fields(dataset=\"GLBX.MDP3\", schema=\"trades\", encoding=\"csv\")"
   ]
  },
  {
   "cell_type": "code",
   "execution_count": 6,
   "id": "2ef363e9-7150-4ace-a2d8-dcc355d73f72",
   "metadata": {},
   "outputs": [
    {
     "data": {
      "text/plain": [
       "['dbz', 'csv', 'json']"
      ]
     },
     "execution_count": 6,
     "metadata": {},
     "output_type": "execute_result"
    }
   ],
   "source": [
    "client.metadata.list_encodings()"
   ]
  },
  {
   "cell_type": "code",
   "execution_count": 7,
   "id": "25a67ca8-10f0-41cb-a932-95a5e8dcd5f1",
   "metadata": {},
   "outputs": [
    {
     "data": {
      "text/plain": [
       "['none', 'zstd']"
      ]
     },
     "execution_count": 7,
     "metadata": {},
     "output_type": "execute_result"
    }
   ],
   "source": [
    "client.metadata.list_compressions()"
   ]
  },
  {
   "cell_type": "markdown",
   "id": "a335a762-bba0-4de5-bde3-8bce006691c9",
   "metadata": {},
   "source": [
    "### Unit cost / GB"
   ]
  },
  {
   "cell_type": "code",
   "execution_count": 8,
   "id": "3b0eec87-6b2e-4498-83c4-60efb7a140e0",
   "metadata": {},
   "outputs": [
    {
     "data": {
      "text/plain": [
       "{'historical-streaming': {'mbo': 21.05,\n",
       "  'mbp-1': 82.05,\n",
       "  'mbp-10': 31.95,\n",
       "  'tbbo': 22.56,\n",
       "  'trades': 67.76,\n",
       "  'ohlcv-1s': 78.68,\n",
       "  'ohlcv-1m': 63.32,\n",
       "  'ohlcv-1h': 52.91,\n",
       "  'ohlcv-1d': 41.5,\n",
       "  'definition': 66.8,\n",
       "  'statistics': 97.92,\n",
       "  'status': 62.72}}"
      ]
     },
     "execution_count": 8,
     "metadata": {},
     "output_type": "execute_result"
    }
   ],
   "source": [
    "client.metadata.list_unit_prices(dataset=\"GLBX.MDP3\", mode=\"historical-streaming\")"
   ]
  },
  {
   "cell_type": "markdown",
   "id": "a295edaa-0cbb-4260-b97b-d3b87cce7ebc",
   "metadata": {},
   "source": [
    "## Requesting time series data\n",
    "\n",
    "First we will instantiate a dictionary of the query parameters for the data we're interested in.\n"
   ]
  },
  {
   "cell_type": "code",
   "execution_count": 9,
   "id": "367e6608-5dbe-4fcd-9104-b367e001e2bf",
   "metadata": {},
   "outputs": [],
   "source": [
    "params = {\n",
    "    \"dataset\": \"GLBX.MDP3\",\n",
    "    \"symbols\": \"ES.FUT\",\n",
    "    \"stype_in\": \"smart\",\n",
    "    \"schema\": \"mbo\",\n",
    "    \"start\": \"2020-12-27\",\n",
    "    \"end\": \"2020-12-30\",\n",
    "}"
   ]
  },
  {
   "cell_type": "markdown",
   "id": "58cf7143-b6fb-4788-9889-f2b558c05d4f",
   "metadata": {},
   "source": [
    "### Data cost\n",
    "Before making an actual request for data, we can query the price (`unit_cost` * `uncompressed_size_GB`)"
   ]
  },
  {
   "cell_type": "code",
   "execution_count": 10,
   "id": "60a9422e-1da0-4f72-9ecc-bed622a9988c",
   "metadata": {},
   "outputs": [
    {
     "data": {
      "text/plain": [
       "13.778901880607009"
      ]
     },
     "execution_count": 10,
     "metadata": {},
     "output_type": "execute_result"
    }
   ],
   "source": [
    "client.metadata.get_cost(**params)"
   ]
  },
  {
   "cell_type": "markdown",
   "id": "f288a29c-c68e-407b-80a5-f6d3c136e17a",
   "metadata": {},
   "source": [
    "## Requesting time series data\n",
    "\n",
    "Now we will request for the historical time series data which will be used throughout the remainder of the tutorial.\n",
    "\n",
    "The data will be streamed into an in-memory buffer encapsulated by a `Bento` object, which we'll use later to work with the data.\n",
    "\n",
    "Here we will request for all E-mini S&P500 futures contract outrights active between 2020-12-27 and 2020-12-30 using `smart` symbology:"
   ]
  },
  {
   "cell_type": "code",
   "execution_count": 11,
   "id": "fe88dd07-968a-421c-a946-1f73cb9576e5",
   "metadata": {},
   "outputs": [],
   "source": [
    "data = client.timeseries.stream(\n",
    "    **params,\n",
    "    limit=1000,  # <-- request limited to 1000 records\n",
    ")"
   ]
  },
  {
   "cell_type": "code",
   "execution_count": 12,
   "id": "5d867614-76ad-48f1-88e8-b839b6c0ffb6",
   "metadata": {},
   "outputs": [],
   "source": [
    "import pandas as pd"
   ]
  },
  {
   "cell_type": "markdown",
   "id": "33e7c239-6050-4d55-a47a-7366873a5eeb",
   "metadata": {
    "tags": []
   },
   "source": [
    "## Working with the Bento helper object\n",
    "\n",
    "All timeseries data requests will contain an accompanying metadata header which includes:\n",
    "- The original query paramaters\n",
    "- Symbology mappings\n",
    "- Instrument 'mini-definitions'"
   ]
  },
  {
   "cell_type": "markdown",
   "id": "826b8e0f-65b3-4ce1-9453-e1d63924b98f",
   "metadata": {},
   "source": [
    "### Metadata properties"
   ]
  },
  {
   "cell_type": "code",
   "execution_count": 13,
   "id": "41318aee-3ffe-45cd-8218-08777537e2d2",
   "metadata": {},
   "outputs": [
    {
     "data": {
      "text/plain": [
       "'GLBX.MDP3'"
      ]
     },
     "execution_count": 13,
     "metadata": {},
     "output_type": "execute_result"
    }
   ],
   "source": [
    "data.dataset"
   ]
  },
  {
   "cell_type": "code",
   "execution_count": 14,
   "id": "fd329859-dd1e-4315-b6e9-ae79f3761306",
   "metadata": {},
   "outputs": [
    {
     "data": {
      "text/plain": [
       "<Schema.MBO: 'mbo'>"
      ]
     },
     "execution_count": 14,
     "metadata": {},
     "output_type": "execute_result"
    }
   ],
   "source": [
    "data.schema"
   ]
  },
  {
   "cell_type": "code",
   "execution_count": 15,
   "id": "9dd6aaf8-47f9-4153-bbcf-6403d435bb32",
   "metadata": {},
   "outputs": [
    {
     "data": {
      "text/plain": [
       "['ES.FUT']"
      ]
     },
     "execution_count": 15,
     "metadata": {},
     "output_type": "execute_result"
    }
   ],
   "source": [
    "data.symbols"
   ]
  },
  {
   "cell_type": "code",
   "execution_count": 16,
   "id": "ad313e09-3887-4a64-9aba-fc49ebfd7761",
   "metadata": {},
   "outputs": [
    {
     "data": {
      "text/plain": [
       "<SType.SMART: 'smart'>"
      ]
     },
     "execution_count": 16,
     "metadata": {},
     "output_type": "execute_result"
    }
   ],
   "source": [
    "data.stype_in"
   ]
  },
  {
   "cell_type": "code",
   "execution_count": 17,
   "id": "a5e2683e-fe9a-43f0-bcc5-dc5933ee37da",
   "metadata": {},
   "outputs": [
    {
     "data": {
      "text/plain": [
       "<SType.PRODUCT_ID: 'product_id'>"
      ]
     },
     "execution_count": 17,
     "metadata": {},
     "output_type": "execute_result"
    }
   ],
   "source": [
    "data.stype_out"
   ]
  },
  {
   "cell_type": "code",
   "execution_count": 18,
   "id": "2013de29-346a-4903-b304-280d1ef265d2",
   "metadata": {},
   "outputs": [
    {
     "data": {
      "text/plain": [
       "Timestamp('2020-12-27 00:00:00+0000', tz='UTC')"
      ]
     },
     "execution_count": 18,
     "metadata": {},
     "output_type": "execute_result"
    }
   ],
   "source": [
    "data.start"
   ]
  },
  {
   "cell_type": "code",
   "execution_count": 19,
   "id": "f712b3f8-60ec-4ac1-baa9-d755fc046aef",
   "metadata": {},
   "outputs": [
    {
     "data": {
      "text/plain": [
       "Timestamp('2020-12-30 00:00:00+0000', tz='UTC')"
      ]
     },
     "execution_count": 19,
     "metadata": {},
     "output_type": "execute_result"
    }
   ],
   "source": [
    "data.end"
   ]
  },
  {
   "cell_type": "code",
   "execution_count": 20,
   "id": "e6c68d7a-ab0d-4f41-8a31-7865783c5c50",
   "metadata": {},
   "outputs": [
    {
     "data": {
      "text/plain": [
       "<Encoding.DBZ: 'dbz'>"
      ]
     },
     "execution_count": 20,
     "metadata": {},
     "output_type": "execute_result"
    }
   ],
   "source": [
    "data.encoding"
   ]
  },
  {
   "cell_type": "code",
   "execution_count": 21,
   "id": "337b3de4-2d86-4772-a740-5dc302711bde",
   "metadata": {},
   "outputs": [
    {
     "data": {
      "text/plain": [
       "<Compression.ZSTD: 'zstd'>"
      ]
     },
     "execution_count": 21,
     "metadata": {},
     "output_type": "execute_result"
    }
   ],
   "source": [
    "data.compression"
   ]
  },
  {
   "cell_type": "code",
   "execution_count": 22,
   "id": "97bc0031-be8b-43cd-b9a4-1c5d2c388a28",
   "metadata": {},
   "outputs": [
    {
     "data": {
      "text/plain": [
       "(1000, 14)"
      ]
     },
     "execution_count": 22,
     "metadata": {},
     "output_type": "execute_result"
    }
   ],
   "source": [
    "data.shape"
   ]
  },
  {
   "cell_type": "code",
   "execution_count": 23,
   "id": "3075f725-b435-411d-97e0-1c29992923e3",
   "metadata": {},
   "outputs": [
    {
     "data": {
      "text/plain": [
       "dtype([('nwords', 'u1'), ('type', 'u1'), ('pub_id', '<u2'), ('product_id', '<u4'), ('ts_event', '<u8'), ('order_id', '<u8'), ('price', '<i8'), ('size', '<u4'), ('flags', 'i1'), ('chan_id', 'u1'), ('side', 'S1'), ('action', 'S1'), ('ts_recv', '<u8'), ('ts_in_delta', '<i4'), ('sequence', '<u4')])"
      ]
     },
     "execution_count": 23,
     "metadata": {},
     "output_type": "execute_result"
    }
   ],
   "source": [
    "data.dtype"
   ]
  },
  {
   "cell_type": "code",
   "execution_count": 24,
   "id": "661fd055-20c2-4e8d-8f2e-2f500225ef73",
   "metadata": {},
   "outputs": [
    {
     "data": {
      "text/plain": [
       "56"
      ]
     },
     "execution_count": 24,
     "metadata": {},
     "output_type": "execute_result"
    }
   ],
   "source": [
    "data.struct_size"
   ]
  },
  {
   "cell_type": "markdown",
   "id": "2e14f337-412e-4c2d-ab8c-6c8ad45ed5e4",
   "metadata": {},
   "source": [
    "### Symbology resolution\n",
    "\n",
    "The metadata contains all information which would have been provided in a `symbology.resolve` request:"
   ]
  },
  {
   "cell_type": "code",
   "execution_count": 25,
   "id": "7df4a48e-7c87-4035-af48-bd7abdf09e35",
   "metadata": {},
   "outputs": [
    {
     "data": {
      "text/plain": [
       "{'result': {'ESH1': [{'t0': '2020-12-27', 't1': '2020-12-30', 's': '5482'}],\n",
       "  'ESH1-ESH2': [{'t0': '2020-12-27', 't1': '2020-12-30', 's': '21885'}],\n",
       "  'ESH1-ESM1': [{'t0': '2020-12-27', 't1': '2020-12-30', 's': '19651'}],\n",
       "  'ESH1-ESU1': [{'t0': '2020-12-27', 't1': '2020-12-30', 's': '4223'}],\n",
       "  'ESH1-ESZ1': [{'t0': '2020-12-27', 't1': '2020-12-30', 's': '20076'}],\n",
       "  'ESH2': [{'t0': '2020-12-27', 't1': '2020-12-30', 's': '5782'}],\n",
       "  'ESM1': [{'t0': '2020-12-27', 't1': '2020-12-30', 's': '3853'}],\n",
       "  'ESM1-ESH2': [{'t0': '2020-12-27', 't1': '2020-12-30', 's': '22223'}],\n",
       "  'ESM1-ESU1': [{'t0': '2020-12-27', 't1': '2020-12-30', 's': '4673'}],\n",
       "  'ESM1-ESZ1': [{'t0': '2020-12-27', 't1': '2020-12-30', 's': '22279'}],\n",
       "  'ESU1': [{'t0': '2020-12-27', 't1': '2020-12-30', 's': '1030'}],\n",
       "  'ESU1-ESH2': [{'t0': '2020-12-27', 't1': '2020-12-30', 's': '16280'}],\n",
       "  'ESU1-ESZ1': [{'t0': '2020-12-27', 't1': '2020-12-30', 's': '20117'}],\n",
       "  'ESZ1': [{'t0': '2020-12-27', 't1': '2020-12-30', 's': '8858'}],\n",
       "  'ESZ1-ESH2': [{'t0': '2020-12-27', 't1': '2020-12-30', 's': '16301'}]},\n",
       " 'symbols': ['ES.FUT'],\n",
       " 'stype_in': 'smart',\n",
       " 'stype_out': 'product_id',\n",
       " 'from_date': '2020-12-27',\n",
       " 'to_date': '2020-12-30',\n",
       " 'partial': [],\n",
       " 'not_found': [],\n",
       " 'message': 'OK',\n",
       " 'status': 0}"
      ]
     },
     "execution_count": 25,
     "metadata": {},
     "output_type": "execute_result"
    }
   ],
   "source": [
    "data.symbology"
   ]
  },
  {
   "cell_type": "markdown",
   "id": "28198e3d-756d-4dc4-bb40-8dbcff6c3339",
   "metadata": {},
   "source": [
    "### Symbology mappings\n",
    "\n",
    "A subset of the symbology metadata includes the mappings between the requested symbols `stype_in` and the specified `stype_out`."
   ]
  },
  {
   "cell_type": "code",
   "execution_count": 26,
   "id": "cd12932a-1be2-475f-b2f4-d1ad581d2ac8",
   "metadata": {},
   "outputs": [
    {
     "data": {
      "text/plain": [
       "{'ESH1': [{'t0': '2020-12-27', 't1': '2020-12-30', 's': '5482'}],\n",
       " 'ESH1-ESH2': [{'t0': '2020-12-27', 't1': '2020-12-30', 's': '21885'}],\n",
       " 'ESH1-ESM1': [{'t0': '2020-12-27', 't1': '2020-12-30', 's': '19651'}],\n",
       " 'ESH1-ESU1': [{'t0': '2020-12-27', 't1': '2020-12-30', 's': '4223'}],\n",
       " 'ESH1-ESZ1': [{'t0': '2020-12-27', 't1': '2020-12-30', 's': '20076'}],\n",
       " 'ESH2': [{'t0': '2020-12-27', 't1': '2020-12-30', 's': '5782'}],\n",
       " 'ESM1': [{'t0': '2020-12-27', 't1': '2020-12-30', 's': '3853'}],\n",
       " 'ESM1-ESH2': [{'t0': '2020-12-27', 't1': '2020-12-30', 's': '22223'}],\n",
       " 'ESM1-ESU1': [{'t0': '2020-12-27', 't1': '2020-12-30', 's': '4673'}],\n",
       " 'ESM1-ESZ1': [{'t0': '2020-12-27', 't1': '2020-12-30', 's': '22279'}],\n",
       " 'ESU1': [{'t0': '2020-12-27', 't1': '2020-12-30', 's': '1030'}],\n",
       " 'ESU1-ESH2': [{'t0': '2020-12-27', 't1': '2020-12-30', 's': '16280'}],\n",
       " 'ESU1-ESZ1': [{'t0': '2020-12-27', 't1': '2020-12-30', 's': '20117'}],\n",
       " 'ESZ1': [{'t0': '2020-12-27', 't1': '2020-12-30', 's': '8858'}],\n",
       " 'ESZ1-ESH2': [{'t0': '2020-12-27', 't1': '2020-12-30', 's': '16301'}]}"
      ]
     },
     "execution_count": 26,
     "metadata": {},
     "output_type": "execute_result"
    }
   ],
   "source": [
    "data.mappings"
   ]
  },
  {
   "cell_type": "markdown",
   "id": "5c105245-93b1-4c0e-98d8-9978d0afa5bf",
   "metadata": {},
   "source": [
    "### Instrument definitions\n",
    "\n",
    "The metadata also contains 'mini-definitions', which are a subset of the full `definition` schema (also available through the `timeseries` endpoint)."
   ]
  },
  {
   "cell_type": "code",
   "execution_count": 27,
   "id": "201a2cd1-b344-450d-97d3-f682c775433e",
   "metadata": {},
   "outputs": [
    {
     "data": {
      "text/plain": [
       "{'ESH1': [{'symbol': 'ESH1',\n",
       "   'date': 20201227,\n",
       "   'asset': 'ES',\n",
       "   'exchange': 'XCME',\n",
       "   'security_type': 'FUT',\n",
       "   'min_price_increment': 25000000000,\n",
       "   'display_factor': 10000000,\n",
       "   'activation': 1576852200000000000,\n",
       "   'expiration': 1616160600000000000,\n",
       "   'currency': 'USD',\n",
       "   'ts_event': 1609088715926494829}],\n",
       " 'ESH2': [{'symbol': 'ESH2',\n",
       "   'date': 20201227,\n",
       "   'asset': 'ES',\n",
       "   'exchange': 'XCME',\n",
       "   'security_type': 'FUT',\n",
       "   'min_price_increment': 25000000000,\n",
       "   'display_factor': 10000000,\n",
       "   'activation': 1608301800000000000,\n",
       "   'expiration': 1647610200000000000,\n",
       "   'currency': 'USD',\n",
       "   'ts_event': 1609088715926494829}],\n",
       " 'ESM1': [{'symbol': 'ESM1',\n",
       "   'date': 20201227,\n",
       "   'asset': 'ES',\n",
       "   'exchange': 'XCME',\n",
       "   'security_type': 'FUT',\n",
       "   'min_price_increment': 25000000000,\n",
       "   'display_factor': 10000000,\n",
       "   'activation': 1584711000000000000,\n",
       "   'expiration': 1624023000000000000,\n",
       "   'currency': 'USD',\n",
       "   'ts_event': 1609088715926494829}],\n",
       " 'ESZ1': [{'symbol': 'ESZ1',\n",
       "   'date': 20201227,\n",
       "   'asset': 'ES',\n",
       "   'exchange': 'XCME',\n",
       "   'security_type': 'FUT',\n",
       "   'min_price_increment': 25000000000,\n",
       "   'display_factor': 10000000,\n",
       "   'activation': 1600435800000000000,\n",
       "   'expiration': 1639751400000000000,\n",
       "   'currency': 'USD',\n",
       "   'ts_event': 1609088715926494829}],\n",
       " 'ESU1': [{'symbol': 'ESU1',\n",
       "   'date': 20201227,\n",
       "   'asset': 'ES',\n",
       "   'exchange': 'XCME',\n",
       "   'security_type': 'FUT',\n",
       "   'min_price_increment': 25000000000,\n",
       "   'display_factor': 10000000,\n",
       "   'activation': 1592573400000000000,\n",
       "   'expiration': 1631885400000000000,\n",
       "   'currency': 'USD',\n",
       "   'ts_event': 1609088715926494829}],\n",
       " 'ESU1-ESZ1': [{'symbol': 'ESU1-ESZ1',\n",
       "   'date': 20201227,\n",
       "   'asset': 'ES',\n",
       "   'exchange': 'XCME',\n",
       "   'security_type': 'FUT',\n",
       "   'min_price_increment': 5000000000,\n",
       "   'display_factor': 10000000,\n",
       "   'activation': 1600435800000000000,\n",
       "   'expiration': 1631885400000000000,\n",
       "   'currency': 'USD',\n",
       "   'ts_event': 1609088715926494829}],\n",
       " 'ESH1-ESZ1': [{'symbol': 'ESH1-ESZ1',\n",
       "   'date': 20201227,\n",
       "   'asset': 'ES',\n",
       "   'exchange': 'XCME',\n",
       "   'security_type': 'FUT',\n",
       "   'min_price_increment': 5000000000,\n",
       "   'display_factor': 10000000,\n",
       "   'activation': 1600435800000000000,\n",
       "   'expiration': 1616160600000000000,\n",
       "   'currency': 'USD',\n",
       "   'ts_event': 1609088715926494829}],\n",
       " 'ESM1-ESZ1': [{'symbol': 'ESM1-ESZ1',\n",
       "   'date': 20201227,\n",
       "   'asset': 'ES',\n",
       "   'exchange': 'XCME',\n",
       "   'security_type': 'FUT',\n",
       "   'min_price_increment': 5000000000,\n",
       "   'display_factor': 10000000,\n",
       "   'activation': 1600435800000000000,\n",
       "   'expiration': 1624023000000000000,\n",
       "   'currency': 'USD',\n",
       "   'ts_event': 1609088715926494829}],\n",
       " 'ESZ1-ESH2': [{'symbol': 'ESZ1-ESH2',\n",
       "   'date': 20201227,\n",
       "   'asset': 'ES',\n",
       "   'exchange': 'XCME',\n",
       "   'security_type': 'FUT',\n",
       "   'min_price_increment': 5000000000,\n",
       "   'display_factor': 10000000,\n",
       "   'activation': 1608301800000000000,\n",
       "   'expiration': 1639751400000000000,\n",
       "   'currency': 'USD',\n",
       "   'ts_event': 1609088715926494829}],\n",
       " 'ESH1-ESM1': [{'symbol': 'ESH1-ESM1',\n",
       "   'date': 20201227,\n",
       "   'asset': 'ES',\n",
       "   'exchange': 'XCME',\n",
       "   'security_type': 'FUT',\n",
       "   'min_price_increment': 5000000000,\n",
       "   'display_factor': 10000000,\n",
       "   'activation': 1584711000000000000,\n",
       "   'expiration': 1616160600000000000,\n",
       "   'currency': 'USD',\n",
       "   'ts_event': 1609088715926494829}],\n",
       " 'ESM1-ESU1': [{'symbol': 'ESM1-ESU1',\n",
       "   'date': 20201227,\n",
       "   'asset': 'ES',\n",
       "   'exchange': 'XCME',\n",
       "   'security_type': 'FUT',\n",
       "   'min_price_increment': 5000000000,\n",
       "   'display_factor': 10000000,\n",
       "   'activation': 1592573400000000000,\n",
       "   'expiration': 1624023000000000000,\n",
       "   'currency': 'USD',\n",
       "   'ts_event': 1609088715926494829}],\n",
       " 'ESH1-ESH2': [{'symbol': 'ESH1-ESH2',\n",
       "   'date': 20201227,\n",
       "   'asset': 'ES',\n",
       "   'exchange': 'XCME',\n",
       "   'security_type': 'FUT',\n",
       "   'min_price_increment': 5000000000,\n",
       "   'display_factor': 10000000,\n",
       "   'activation': 1608301800000000000,\n",
       "   'expiration': 1616160600000000000,\n",
       "   'currency': 'USD',\n",
       "   'ts_event': 1609088715926494829}],\n",
       " 'ESU1-ESH2': [{'symbol': 'ESU1-ESH2',\n",
       "   'date': 20201227,\n",
       "   'asset': 'ES',\n",
       "   'exchange': 'XCME',\n",
       "   'security_type': 'FUT',\n",
       "   'min_price_increment': 5000000000,\n",
       "   'display_factor': 10000000,\n",
       "   'activation': 1608301800000000000,\n",
       "   'expiration': 1631885400000000000,\n",
       "   'currency': 'USD',\n",
       "   'ts_event': 1609088715926494829}],\n",
       " 'ESH1-ESU1': [{'symbol': 'ESH1-ESU1',\n",
       "   'date': 20201227,\n",
       "   'asset': 'ES',\n",
       "   'exchange': 'XCME',\n",
       "   'security_type': 'FUT',\n",
       "   'min_price_increment': 5000000000,\n",
       "   'display_factor': 10000000,\n",
       "   'activation': 1592573400000000000,\n",
       "   'expiration': 1616160600000000000,\n",
       "   'currency': 'USD',\n",
       "   'ts_event': 1609088715926494829}],\n",
       " 'ESM1-ESH2': [{'symbol': 'ESM1-ESH2',\n",
       "   'date': 20201227,\n",
       "   'asset': 'ES',\n",
       "   'exchange': 'XCME',\n",
       "   'security_type': 'FUT',\n",
       "   'min_price_increment': 5000000000,\n",
       "   'display_factor': 10000000,\n",
       "   'activation': 1608301800000000000,\n",
       "   'expiration': 1624023000000000000,\n",
       "   'currency': 'USD',\n",
       "   'ts_event': 1609088715926494829}]}"
      ]
     },
     "execution_count": 27,
     "metadata": {},
     "output_type": "execute_result"
    }
   ],
   "source": [
    "data.definitions"
   ]
  },
  {
   "cell_type": "code",
   "execution_count": 28,
   "id": "3097ad00-2bd8-4413-ae0b-b6de1501e916",
   "metadata": {},
   "outputs": [
    {
     "data": {
      "text/plain": [
       "[{'symbol': 'ESH1',\n",
       "  'date': 20201227,\n",
       "  'asset': 'ES',\n",
       "  'exchange': 'XCME',\n",
       "  'security_type': 'FUT',\n",
       "  'min_price_increment': 25000000000,\n",
       "  'display_factor': 10000000,\n",
       "  'activation': 1576852200000000000,\n",
       "  'expiration': 1616160600000000000,\n",
       "  'currency': 'USD',\n",
       "  'ts_event': 1609088715926494829}]"
      ]
     },
     "execution_count": 28,
     "metadata": {},
     "output_type": "execute_result"
    }
   ],
   "source": [
    "data.instrument('ESH1')"
   ]
  },
  {
   "cell_type": "markdown",
   "id": "b41bb8b1-55b1-4a84-9575-2cf760605b97",
   "metadata": {},
   "source": [
    "### Pandas DataFrame"
   ]
  },
  {
   "cell_type": "markdown",
   "id": "b9de74ac-2f1b-443d-9ec3-80ade416107a",
   "metadata": {},
   "source": [
    "We can easily obtain a pandas `DataFrame` by calling the below method."
   ]
  },
  {
   "cell_type": "code",
   "execution_count": 38,
   "id": "023585c5-2911-4532-b6c5-329b003a6f4b",
   "metadata": {},
   "outputs": [
    {
     "data": {
      "text/html": [
       "<div>\n",
       "<style scoped>\n",
       "    .dataframe tbody tr th:only-of-type {\n",
       "        vertical-align: middle;\n",
       "    }\n",
       "\n",
       "    .dataframe tbody tr th {\n",
       "        vertical-align: top;\n",
       "    }\n",
       "\n",
       "    .dataframe thead th {\n",
       "        text-align: right;\n",
       "    }\n",
       "</style>\n",
       "<table border=\"1\" class=\"dataframe\">\n",
       "  <thead>\n",
       "    <tr style=\"text-align: right;\">\n",
       "      <th></th>\n",
       "      <th>ts_event</th>\n",
       "      <th>ts_in_delta</th>\n",
       "      <th>pub_id</th>\n",
       "      <th>product_id</th>\n",
       "      <th>order_id</th>\n",
       "      <th>action</th>\n",
       "      <th>side</th>\n",
       "      <th>flags</th>\n",
       "      <th>price</th>\n",
       "      <th>size</th>\n",
       "      <th>sequence</th>\n",
       "    </tr>\n",
       "    <tr>\n",
       "      <th>ts_recv</th>\n",
       "      <th></th>\n",
       "      <th></th>\n",
       "      <th></th>\n",
       "      <th></th>\n",
       "      <th></th>\n",
       "      <th></th>\n",
       "      <th></th>\n",
       "      <th></th>\n",
       "      <th></th>\n",
       "      <th></th>\n",
       "      <th></th>\n",
       "    </tr>\n",
       "  </thead>\n",
       "  <tbody>\n",
       "    <tr>\n",
       "      <th>2020-12-27 20:00:25.250461359+00:00</th>\n",
       "      <td>2020-12-27 20:00:25.061045683+00:00</td>\n",
       "      <td>92701</td>\n",
       "      <td>1</td>\n",
       "      <td>5482</td>\n",
       "      <td>647439984644</td>\n",
       "      <td>A</td>\n",
       "      <td>B</td>\n",
       "      <td>0</td>\n",
       "      <td>3159.50</td>\n",
       "      <td>2</td>\n",
       "      <td>1098</td>\n",
       "    </tr>\n",
       "    <tr>\n",
       "      <th>2020-12-27 20:00:25.250461359+00:00</th>\n",
       "      <td>2020-12-27 20:00:25.061045683+00:00</td>\n",
       "      <td>92701</td>\n",
       "      <td>1</td>\n",
       "      <td>5482</td>\n",
       "      <td>647439984689</td>\n",
       "      <td>A</td>\n",
       "      <td>B</td>\n",
       "      <td>0</td>\n",
       "      <td>3105.50</td>\n",
       "      <td>3</td>\n",
       "      <td>1098</td>\n",
       "    </tr>\n",
       "    <tr>\n",
       "      <th>2020-12-27 20:00:25.250461359+00:00</th>\n",
       "      <td>2020-12-27 20:00:25.061045683+00:00</td>\n",
       "      <td>92701</td>\n",
       "      <td>1</td>\n",
       "      <td>5482</td>\n",
       "      <td>647508324609</td>\n",
       "      <td>A</td>\n",
       "      <td>B</td>\n",
       "      <td>0</td>\n",
       "      <td>3300.00</td>\n",
       "      <td>2</td>\n",
       "      <td>1098</td>\n",
       "    </tr>\n",
       "    <tr>\n",
       "      <th>2020-12-27 20:00:25.250461359+00:00</th>\n",
       "      <td>2020-12-27 20:00:25.061045683+00:00</td>\n",
       "      <td>92701</td>\n",
       "      <td>1</td>\n",
       "      <td>5482</td>\n",
       "      <td>647530969859</td>\n",
       "      <td>A</td>\n",
       "      <td>B</td>\n",
       "      <td>0</td>\n",
       "      <td>2870.00</td>\n",
       "      <td>10</td>\n",
       "      <td>1098</td>\n",
       "    </tr>\n",
       "    <tr>\n",
       "      <th>2020-12-27 20:00:25.250461359+00:00</th>\n",
       "      <td>2020-12-27 20:00:25.061045683+00:00</td>\n",
       "      <td>92701</td>\n",
       "      <td>1</td>\n",
       "      <td>5482</td>\n",
       "      <td>647570749552</td>\n",
       "      <td>A</td>\n",
       "      <td>B</td>\n",
       "      <td>0</td>\n",
       "      <td>3213.25</td>\n",
       "      <td>1</td>\n",
       "      <td>1098</td>\n",
       "    </tr>\n",
       "    <tr>\n",
       "      <th>2020-12-27 20:00:25.250461359+00:00</th>\n",
       "      <td>2020-12-27 20:00:25.061045683+00:00</td>\n",
       "      <td>92701</td>\n",
       "      <td>1</td>\n",
       "      <td>5482</td>\n",
       "      <td>647570749560</td>\n",
       "      <td>A</td>\n",
       "      <td>B</td>\n",
       "      <td>0</td>\n",
       "      <td>3212.25</td>\n",
       "      <td>1</td>\n",
       "      <td>1098</td>\n",
       "    </tr>\n",
       "    <tr>\n",
       "      <th>2020-12-27 20:00:25.250461359+00:00</th>\n",
       "      <td>2020-12-27 20:00:25.061045683+00:00</td>\n",
       "      <td>92701</td>\n",
       "      <td>1</td>\n",
       "      <td>5482</td>\n",
       "      <td>647570749656</td>\n",
       "      <td>A</td>\n",
       "      <td>B</td>\n",
       "      <td>0</td>\n",
       "      <td>3211.25</td>\n",
       "      <td>1</td>\n",
       "      <td>1098</td>\n",
       "    </tr>\n",
       "    <tr>\n",
       "      <th>2020-12-27 20:00:25.250461359+00:00</th>\n",
       "      <td>2020-12-27 20:00:25.061045683+00:00</td>\n",
       "      <td>92701</td>\n",
       "      <td>1</td>\n",
       "      <td>5482</td>\n",
       "      <td>647570749727</td>\n",
       "      <td>A</td>\n",
       "      <td>B</td>\n",
       "      <td>0</td>\n",
       "      <td>3210.25</td>\n",
       "      <td>1</td>\n",
       "      <td>1098</td>\n",
       "    </tr>\n",
       "    <tr>\n",
       "      <th>2020-12-27 20:00:25.250461359+00:00</th>\n",
       "      <td>2020-12-27 20:00:25.061045683+00:00</td>\n",
       "      <td>92701</td>\n",
       "      <td>1</td>\n",
       "      <td>5482</td>\n",
       "      <td>647570749776</td>\n",
       "      <td>A</td>\n",
       "      <td>B</td>\n",
       "      <td>0</td>\n",
       "      <td>3209.25</td>\n",
       "      <td>1</td>\n",
       "      <td>1098</td>\n",
       "    </tr>\n",
       "    <tr>\n",
       "      <th>2020-12-27 20:00:25.250461359+00:00</th>\n",
       "      <td>2020-12-27 20:00:25.061045683+00:00</td>\n",
       "      <td>92701</td>\n",
       "      <td>1</td>\n",
       "      <td>5482</td>\n",
       "      <td>647570749868</td>\n",
       "      <td>A</td>\n",
       "      <td>B</td>\n",
       "      <td>0</td>\n",
       "      <td>3208.25</td>\n",
       "      <td>1</td>\n",
       "      <td>1098</td>\n",
       "    </tr>\n",
       "    <tr>\n",
       "      <th>2020-12-27 20:00:25.250461359+00:00</th>\n",
       "      <td>2020-12-27 20:00:25.061045683+00:00</td>\n",
       "      <td>92701</td>\n",
       "      <td>1</td>\n",
       "      <td>5482</td>\n",
       "      <td>647570749976</td>\n",
       "      <td>A</td>\n",
       "      <td>B</td>\n",
       "      <td>0</td>\n",
       "      <td>3207.25</td>\n",
       "      <td>1</td>\n",
       "      <td>1098</td>\n",
       "    </tr>\n",
       "    <tr>\n",
       "      <th>2020-12-27 20:00:25.250461359+00:00</th>\n",
       "      <td>2020-12-27 20:00:25.061045683+00:00</td>\n",
       "      <td>92701</td>\n",
       "      <td>1</td>\n",
       "      <td>5482</td>\n",
       "      <td>647570750036</td>\n",
       "      <td>A</td>\n",
       "      <td>B</td>\n",
       "      <td>0</td>\n",
       "      <td>3206.25</td>\n",
       "      <td>1</td>\n",
       "      <td>1098</td>\n",
       "    </tr>\n",
       "    <tr>\n",
       "      <th>2020-12-27 20:00:25.250461359+00:00</th>\n",
       "      <td>2020-12-27 20:00:25.061045683+00:00</td>\n",
       "      <td>92701</td>\n",
       "      <td>1</td>\n",
       "      <td>5482</td>\n",
       "      <td>647570750152</td>\n",
       "      <td>A</td>\n",
       "      <td>B</td>\n",
       "      <td>0</td>\n",
       "      <td>3205.25</td>\n",
       "      <td>1</td>\n",
       "      <td>1098</td>\n",
       "    </tr>\n",
       "    <tr>\n",
       "      <th>2020-12-27 20:00:25.250461359+00:00</th>\n",
       "      <td>2020-12-27 20:00:25.061045683+00:00</td>\n",
       "      <td>92701</td>\n",
       "      <td>1</td>\n",
       "      <td>5482</td>\n",
       "      <td>647570750342</td>\n",
       "      <td>A</td>\n",
       "      <td>B</td>\n",
       "      <td>0</td>\n",
       "      <td>3204.25</td>\n",
       "      <td>1</td>\n",
       "      <td>1098</td>\n",
       "    </tr>\n",
       "    <tr>\n",
       "      <th>2020-12-27 20:00:25.250461359+00:00</th>\n",
       "      <td>2020-12-27 20:00:25.061045683+00:00</td>\n",
       "      <td>92701</td>\n",
       "      <td>1</td>\n",
       "      <td>5482</td>\n",
       "      <td>647576539063</td>\n",
       "      <td>A</td>\n",
       "      <td>B</td>\n",
       "      <td>0</td>\n",
       "      <td>2750.00</td>\n",
       "      <td>1</td>\n",
       "      <td>1098</td>\n",
       "    </tr>\n",
       "    <tr>\n",
       "      <th>2020-12-27 20:00:25.250461359+00:00</th>\n",
       "      <td>2020-12-27 20:00:25.061045683+00:00</td>\n",
       "      <td>92701</td>\n",
       "      <td>1</td>\n",
       "      <td>5482</td>\n",
       "      <td>647579479808</td>\n",
       "      <td>A</td>\n",
       "      <td>B</td>\n",
       "      <td>0</td>\n",
       "      <td>3251.00</td>\n",
       "      <td>1</td>\n",
       "      <td>1098</td>\n",
       "    </tr>\n",
       "    <tr>\n",
       "      <th>2020-12-27 20:00:25.250461359+00:00</th>\n",
       "      <td>2020-12-27 20:00:25.061045683+00:00</td>\n",
       "      <td>92701</td>\n",
       "      <td>1</td>\n",
       "      <td>5482</td>\n",
       "      <td>647579479986</td>\n",
       "      <td>A</td>\n",
       "      <td>B</td>\n",
       "      <td>0</td>\n",
       "      <td>3250.00</td>\n",
       "      <td>1</td>\n",
       "      <td>1098</td>\n",
       "    </tr>\n",
       "    <tr>\n",
       "      <th>2020-12-27 20:00:25.250461359+00:00</th>\n",
       "      <td>2020-12-27 20:00:25.061045683+00:00</td>\n",
       "      <td>92701</td>\n",
       "      <td>1</td>\n",
       "      <td>5482</td>\n",
       "      <td>647579480008</td>\n",
       "      <td>A</td>\n",
       "      <td>B</td>\n",
       "      <td>0</td>\n",
       "      <td>3249.00</td>\n",
       "      <td>1</td>\n",
       "      <td>1098</td>\n",
       "    </tr>\n",
       "    <tr>\n",
       "      <th>2020-12-27 20:00:25.250461359+00:00</th>\n",
       "      <td>2020-12-27 20:00:25.061045683+00:00</td>\n",
       "      <td>92701</td>\n",
       "      <td>1</td>\n",
       "      <td>5482</td>\n",
       "      <td>647579480125</td>\n",
       "      <td>A</td>\n",
       "      <td>B</td>\n",
       "      <td>0</td>\n",
       "      <td>3248.00</td>\n",
       "      <td>1</td>\n",
       "      <td>1098</td>\n",
       "    </tr>\n",
       "    <tr>\n",
       "      <th>2020-12-27 20:00:25.250461359+00:00</th>\n",
       "      <td>2020-12-27 20:00:25.061045683+00:00</td>\n",
       "      <td>92701</td>\n",
       "      <td>1</td>\n",
       "      <td>5482</td>\n",
       "      <td>647579480381</td>\n",
       "      <td>A</td>\n",
       "      <td>B</td>\n",
       "      <td>0</td>\n",
       "      <td>3247.00</td>\n",
       "      <td>1</td>\n",
       "      <td>1098</td>\n",
       "    </tr>\n",
       "  </tbody>\n",
       "</table>\n",
       "</div>"
      ],
      "text/plain": [
       "                                                               ts_event  \\\n",
       "ts_recv                                                                   \n",
       "2020-12-27 20:00:25.250461359+00:00 2020-12-27 20:00:25.061045683+00:00   \n",
       "2020-12-27 20:00:25.250461359+00:00 2020-12-27 20:00:25.061045683+00:00   \n",
       "2020-12-27 20:00:25.250461359+00:00 2020-12-27 20:00:25.061045683+00:00   \n",
       "2020-12-27 20:00:25.250461359+00:00 2020-12-27 20:00:25.061045683+00:00   \n",
       "2020-12-27 20:00:25.250461359+00:00 2020-12-27 20:00:25.061045683+00:00   \n",
       "2020-12-27 20:00:25.250461359+00:00 2020-12-27 20:00:25.061045683+00:00   \n",
       "2020-12-27 20:00:25.250461359+00:00 2020-12-27 20:00:25.061045683+00:00   \n",
       "2020-12-27 20:00:25.250461359+00:00 2020-12-27 20:00:25.061045683+00:00   \n",
       "2020-12-27 20:00:25.250461359+00:00 2020-12-27 20:00:25.061045683+00:00   \n",
       "2020-12-27 20:00:25.250461359+00:00 2020-12-27 20:00:25.061045683+00:00   \n",
       "2020-12-27 20:00:25.250461359+00:00 2020-12-27 20:00:25.061045683+00:00   \n",
       "2020-12-27 20:00:25.250461359+00:00 2020-12-27 20:00:25.061045683+00:00   \n",
       "2020-12-27 20:00:25.250461359+00:00 2020-12-27 20:00:25.061045683+00:00   \n",
       "2020-12-27 20:00:25.250461359+00:00 2020-12-27 20:00:25.061045683+00:00   \n",
       "2020-12-27 20:00:25.250461359+00:00 2020-12-27 20:00:25.061045683+00:00   \n",
       "2020-12-27 20:00:25.250461359+00:00 2020-12-27 20:00:25.061045683+00:00   \n",
       "2020-12-27 20:00:25.250461359+00:00 2020-12-27 20:00:25.061045683+00:00   \n",
       "2020-12-27 20:00:25.250461359+00:00 2020-12-27 20:00:25.061045683+00:00   \n",
       "2020-12-27 20:00:25.250461359+00:00 2020-12-27 20:00:25.061045683+00:00   \n",
       "2020-12-27 20:00:25.250461359+00:00 2020-12-27 20:00:25.061045683+00:00   \n",
       "\n",
       "                                     ts_in_delta  pub_id  product_id  \\\n",
       "ts_recv                                                                \n",
       "2020-12-27 20:00:25.250461359+00:00        92701       1        5482   \n",
       "2020-12-27 20:00:25.250461359+00:00        92701       1        5482   \n",
       "2020-12-27 20:00:25.250461359+00:00        92701       1        5482   \n",
       "2020-12-27 20:00:25.250461359+00:00        92701       1        5482   \n",
       "2020-12-27 20:00:25.250461359+00:00        92701       1        5482   \n",
       "2020-12-27 20:00:25.250461359+00:00        92701       1        5482   \n",
       "2020-12-27 20:00:25.250461359+00:00        92701       1        5482   \n",
       "2020-12-27 20:00:25.250461359+00:00        92701       1        5482   \n",
       "2020-12-27 20:00:25.250461359+00:00        92701       1        5482   \n",
       "2020-12-27 20:00:25.250461359+00:00        92701       1        5482   \n",
       "2020-12-27 20:00:25.250461359+00:00        92701       1        5482   \n",
       "2020-12-27 20:00:25.250461359+00:00        92701       1        5482   \n",
       "2020-12-27 20:00:25.250461359+00:00        92701       1        5482   \n",
       "2020-12-27 20:00:25.250461359+00:00        92701       1        5482   \n",
       "2020-12-27 20:00:25.250461359+00:00        92701       1        5482   \n",
       "2020-12-27 20:00:25.250461359+00:00        92701       1        5482   \n",
       "2020-12-27 20:00:25.250461359+00:00        92701       1        5482   \n",
       "2020-12-27 20:00:25.250461359+00:00        92701       1        5482   \n",
       "2020-12-27 20:00:25.250461359+00:00        92701       1        5482   \n",
       "2020-12-27 20:00:25.250461359+00:00        92701       1        5482   \n",
       "\n",
       "                                         order_id action side  flags    price  \\\n",
       "ts_recv                                                                         \n",
       "2020-12-27 20:00:25.250461359+00:00  647439984644      A    B      0  3159.50   \n",
       "2020-12-27 20:00:25.250461359+00:00  647439984689      A    B      0  3105.50   \n",
       "2020-12-27 20:00:25.250461359+00:00  647508324609      A    B      0  3300.00   \n",
       "2020-12-27 20:00:25.250461359+00:00  647530969859      A    B      0  2870.00   \n",
       "2020-12-27 20:00:25.250461359+00:00  647570749552      A    B      0  3213.25   \n",
       "2020-12-27 20:00:25.250461359+00:00  647570749560      A    B      0  3212.25   \n",
       "2020-12-27 20:00:25.250461359+00:00  647570749656      A    B      0  3211.25   \n",
       "2020-12-27 20:00:25.250461359+00:00  647570749727      A    B      0  3210.25   \n",
       "2020-12-27 20:00:25.250461359+00:00  647570749776      A    B      0  3209.25   \n",
       "2020-12-27 20:00:25.250461359+00:00  647570749868      A    B      0  3208.25   \n",
       "2020-12-27 20:00:25.250461359+00:00  647570749976      A    B      0  3207.25   \n",
       "2020-12-27 20:00:25.250461359+00:00  647570750036      A    B      0  3206.25   \n",
       "2020-12-27 20:00:25.250461359+00:00  647570750152      A    B      0  3205.25   \n",
       "2020-12-27 20:00:25.250461359+00:00  647570750342      A    B      0  3204.25   \n",
       "2020-12-27 20:00:25.250461359+00:00  647576539063      A    B      0  2750.00   \n",
       "2020-12-27 20:00:25.250461359+00:00  647579479808      A    B      0  3251.00   \n",
       "2020-12-27 20:00:25.250461359+00:00  647579479986      A    B      0  3250.00   \n",
       "2020-12-27 20:00:25.250461359+00:00  647579480008      A    B      0  3249.00   \n",
       "2020-12-27 20:00:25.250461359+00:00  647579480125      A    B      0  3248.00   \n",
       "2020-12-27 20:00:25.250461359+00:00  647579480381      A    B      0  3247.00   \n",
       "\n",
       "                                     size  sequence  \n",
       "ts_recv                                              \n",
       "2020-12-27 20:00:25.250461359+00:00     2      1098  \n",
       "2020-12-27 20:00:25.250461359+00:00     3      1098  \n",
       "2020-12-27 20:00:25.250461359+00:00     2      1098  \n",
       "2020-12-27 20:00:25.250461359+00:00    10      1098  \n",
       "2020-12-27 20:00:25.250461359+00:00     1      1098  \n",
       "2020-12-27 20:00:25.250461359+00:00     1      1098  \n",
       "2020-12-27 20:00:25.250461359+00:00     1      1098  \n",
       "2020-12-27 20:00:25.250461359+00:00     1      1098  \n",
       "2020-12-27 20:00:25.250461359+00:00     1      1098  \n",
       "2020-12-27 20:00:25.250461359+00:00     1      1098  \n",
       "2020-12-27 20:00:25.250461359+00:00     1      1098  \n",
       "2020-12-27 20:00:25.250461359+00:00     1      1098  \n",
       "2020-12-27 20:00:25.250461359+00:00     1      1098  \n",
       "2020-12-27 20:00:25.250461359+00:00     1      1098  \n",
       "2020-12-27 20:00:25.250461359+00:00     1      1098  \n",
       "2020-12-27 20:00:25.250461359+00:00     1      1098  \n",
       "2020-12-27 20:00:25.250461359+00:00     1      1098  \n",
       "2020-12-27 20:00:25.250461359+00:00     1      1098  \n",
       "2020-12-27 20:00:25.250461359+00:00     1      1098  \n",
       "2020-12-27 20:00:25.250461359+00:00     1      1098  "
      ]
     },
     "execution_count": 38,
     "metadata": {},
     "output_type": "execute_result"
    }
   ],
   "source": [
    "df = data.to_df(pretty_px=True, pretty_ts=True)\n",
    "\n",
    "# For now we must lightly process prices to account for display factor\n",
    "# this will eventually occur using `pretty_px`.\n",
    "definition = data.instrument(\"ESH1\")\n",
    "df[\"price\"] = df[\"price\"] * (definition[0][\"display_factor\"] * 1e-9)\n",
    "\n",
    "df.head(20)"
   ]
  },
  {
   "cell_type": "markdown",
   "id": "392f402d-b325-4d61-9053-76e38dbb021e",
   "metadata": {},
   "source": [
    "### Numpy arrays\n",
    "\n",
    "It's also possible to work with an array of individual records represented as `np.ndarray`(s).\n",
    "\n"
   ]
  },
  {
   "cell_type": "code",
   "execution_count": 30,
   "id": "23dbe271-0379-46f0-ae47-1f33a7b708e5",
   "metadata": {},
   "outputs": [
    {
     "data": {
      "text/plain": [
       "array([(14, 32, 1, 5482, 1609099225061045683, 647439984644, 315950000000000,  2, 0, 0, b'B', b'A', 1609099225250461359, 92701, 1098),\n",
       "       (14, 32, 1, 5482, 1609099225061045683, 647439984689, 310550000000000,  3, 0, 0, b'B', b'A', 1609099225250461359, 92701, 1098),\n",
       "       (14, 32, 1, 5482, 1609099225061045683, 647508324609, 330000000000000,  2, 0, 0, b'B', b'A', 1609099225250461359, 92701, 1098),\n",
       "       (14, 32, 1, 5482, 1609099225061045683, 647530969859, 287000000000000, 10, 0, 0, b'B', b'A', 1609099225250461359, 92701, 1098),\n",
       "       (14, 32, 1, 5482, 1609099225061045683, 647570749552, 321325000000000,  1, 0, 0, b'B', b'A', 1609099225250461359, 92701, 1098),\n",
       "       (14, 32, 1, 5482, 1609099225061045683, 647570749560, 321225000000000,  1, 0, 0, b'B', b'A', 1609099225250461359, 92701, 1098),\n",
       "       (14, 32, 1, 5482, 1609099225061045683, 647570749656, 321125000000000,  1, 0, 0, b'B', b'A', 1609099225250461359, 92701, 1098),\n",
       "       (14, 32, 1, 5482, 1609099225061045683, 647570749727, 321025000000000,  1, 0, 0, b'B', b'A', 1609099225250461359, 92701, 1098),\n",
       "       (14, 32, 1, 5482, 1609099225061045683, 647570749776, 320925000000000,  1, 0, 0, b'B', b'A', 1609099225250461359, 92701, 1098),\n",
       "       (14, 32, 1, 5482, 1609099225061045683, 647570749868, 320825000000000,  1, 0, 0, b'B', b'A', 1609099225250461359, 92701, 1098)],\n",
       "      dtype=[('nwords', 'u1'), ('type', 'u1'), ('pub_id', '<u2'), ('product_id', '<u4'), ('ts_event', '<u8'), ('order_id', '<u8'), ('price', '<i8'), ('size', '<u4'), ('flags', 'i1'), ('chan_id', 'u1'), ('side', 'S1'), ('action', 'S1'), ('ts_recv', '<u8'), ('ts_in_delta', '<i4'), ('sequence', '<u4')])"
      ]
     },
     "execution_count": 30,
     "metadata": {},
     "output_type": "execute_result"
    }
   ],
   "source": [
    "data.to_ndarray()[:10]"
   ]
  },
  {
   "cell_type": "markdown",
   "id": "6560afef-877a-4e31-8cd9-11465081c88e",
   "metadata": {},
   "source": [
    "### Replay\n",
    "\n",
    "We may also have a usecase for replaying the time series data stream record by record through a handler."
   ]
  },
  {
   "cell_type": "code",
   "execution_count": 31,
   "id": "9aff99e1-1e62-4b22-901f-373b4133a261",
   "metadata": {},
   "outputs": [],
   "source": [
    "def my_handler(record):\n",
    "    # backtesting / trading strategies (event-driven)\n",
    "    print(record)"
   ]
  },
  {
   "cell_type": "code",
   "execution_count": 32,
   "id": "415ade36-1654-4bce-850b-0ae3bfc468b0",
   "metadata": {},
   "outputs": [],
   "source": [
    "# data.replay(my_handler)"
   ]
  },
  {
   "cell_type": "code",
   "execution_count": null,
   "id": "cfc7902c-e83e-4817-8c12-24a5ff31ba7f",
   "metadata": {},
   "outputs": [],
   "source": []
  },
  {
   "cell_type": "markdown",
   "id": "97ee06db-a6be-4be7-84d1-3197d5261da7",
   "metadata": {},
   "source": [
    "## Time series batch requests"
   ]
  },
  {
   "cell_type": "markdown",
   "id": "4db95f21-f3dc-481a-8fc0-5c41d7fe49e9",
   "metadata": {},
   "source": [
    "It's possible to make time series batch requests programatically with the client library. This will hit the batch endpoint of the backend API with a batch request."
   ]
  },
  {
   "cell_type": "code",
   "execution_count": 33,
   "id": "e1002ece-da46-4aab-9434-556fab131f9a",
   "metadata": {},
   "outputs": [
    {
     "data": {
      "text/plain": [
       "{'id': 'GLBX-20220718-B6WM8NCU3K',\n",
       " 'user_id': '46PCMCVF',\n",
       " 'bill_id': '75c1035a',\n",
       " 'dataset': 'GLBX.MDP3',\n",
       " 'symbols': 'ESH1',\n",
       " 'stype_in': 'native',\n",
       " 'stype_out': 'product_id',\n",
       " 'schema': 'trades',\n",
       " 'start': '2020-12-27 12:00:00+00:00',\n",
       " 'end': '2020-12-29 00:00:00+00:00',\n",
       " 'limit': 100,\n",
       " 'encoding': 'dbz',\n",
       " 'compression': 'zstd',\n",
       " 'nrows': 100,\n",
       " 'ncols': 14,\n",
       " 'split_duration': 'day',\n",
       " 'split_size': None,\n",
       " 'packaging': 'none',\n",
       " 'delivery': 'download',\n",
       " 'is_example': False,\n",
       " 'billed_size': 4800,\n",
       " 'actual_size': None,\n",
       " 'package_size': None,\n",
       " 'state': 'queued',\n",
       " 'ts_received': '2022-07-18 08:35:57.625343+00:00',\n",
       " 'ts_queued': None,\n",
       " 'ts_process_start': None,\n",
       " 'ts_process_done': None,\n",
       " 'ts_expiration': None}"
      ]
     },
     "execution_count": 33,
     "metadata": {},
     "output_type": "execute_result"
    }
   ],
   "source": [
    "client.batch.timeseries_submit(\n",
    "    dataset=\"GLBX.MDP3\",\n",
    "    symbols=[\"ESH1\"],\n",
    "    schema=\"trades\",\n",
    "    start=\"2020-12-27T12:00\",\n",
    "    end=\"2020-12-29\",\n",
    "    encoding=\"dbz\",\n",
    "    delivery=\"download\",\n",
    "    compression=\"zstd\",\n",
    "    limit=100,  # <-- request limited to 1000 records\n",
    ")"
   ]
  },
  {
   "cell_type": "markdown",
   "id": "ec29b7b2-612a-4bbe-bd70-460b08e3866e",
   "metadata": {},
   "source": [
    "We can also list the batch jobs we have made, with optional filter parameters for `state` and `since`. This could help us programatically build and manage larger data pipelines."
   ]
  },
  {
   "cell_type": "code",
   "execution_count": 34,
   "id": "fc75af05-74d1-4868-9d9e-f3f4da107d99",
   "metadata": {},
   "outputs": [
    {
     "data": {
      "text/plain": [
       "[{'id': 'GLBX-20220718-B6WM8NCU3K',\n",
       "  'user_id': '46PCMCVF',\n",
       "  'bill_id': '75c1035a',\n",
       "  'dataset': 'GLBX.MDP3',\n",
       "  'symbols': 'ESH1',\n",
       "  'stype_in': 'native',\n",
       "  'stype_out': 'product_id',\n",
       "  'schema': 'trades',\n",
       "  'start': '2020-12-27 12:00:00+00:00',\n",
       "  'end': '2020-12-29 00:00:00+00:00',\n",
       "  'limit': 100,\n",
       "  'encoding': 'dbz',\n",
       "  'compression': 'zstd',\n",
       "  'nrows': 100,\n",
       "  'ncols': 14,\n",
       "  'split_duration': 'day',\n",
       "  'split_size': None,\n",
       "  'packaging': 'none',\n",
       "  'delivery': 'download',\n",
       "  'is_example': False,\n",
       "  'billed_size': 4800,\n",
       "  'actual_size': None,\n",
       "  'package_size': None,\n",
       "  'state': 'queued',\n",
       "  'ts_received': '2022-07-18 08:35:57.625343+00:00',\n",
       "  'ts_queued': '2022-07-18 08:35:58.144992+00:00',\n",
       "  'ts_process_start': None,\n",
       "  'ts_process_done': None,\n",
       "  'ts_expiration': None,\n",
       "  'progress': 0}]"
      ]
     },
     "execution_count": 34,
     "metadata": {},
     "output_type": "execute_result"
    }
   ],
   "source": [
    "client.batch.list_jobs(since=pd.Timestamp.utcnow() - pd.Timedelta(minutes=5))"
   ]
  },
  {
   "cell_type": "code",
   "execution_count": null,
   "id": "fa626cd9-311c-439d-bd6d-6781ab52bfd2",
   "metadata": {},
   "outputs": [],
   "source": []
  }
 ],
 "metadata": {
  "kernelspec": {
   "display_name": "Python 3 (ipykernel)",
   "language": "python",
   "name": "python3"
  },
  "language_info": {
   "codemirror_mode": {
    "name": "ipython",
    "version": 3
   },
   "file_extension": ".py",
   "mimetype": "text/x-python",
   "name": "python",
   "nbconvert_exporter": "python",
   "pygments_lexer": "ipython3",
   "version": "3.8.13"
  }
 },
 "nbformat": 4,
 "nbformat_minor": 5
}
