{
 "cells": [
  {
   "cell_type": "markdown",
   "id": "c632e5d2-8ae8-4bd5-bbec-af19e333098a",
   "metadata": {},
   "source": [
    "# Databento Python client tutorial"
   ]
  },
  {
   "cell_type": "markdown",
   "id": "d9e94dc5-d55e-4c35-b87e-a4de198e8b6b",
   "metadata": {},
   "source": [
    "Welcome to the Databento official Python client library tutorial!\n",
    "\n",
    "This tutorial will cover the following:\n",
    "- Using the historical client to request for metadata\n",
    "- Using the historical client to request for time series market data\n",
    "- Working with the `Bento` data I/O helper object\n",
    "\n",
    "Tips:\n",
    "- You can call `help()` on any class or method to see the 'docstring'\n"
   ]
  },
  {
   "cell_type": "markdown",
   "id": "32b967f0-0675-4068-bb87-eae331b4d658",
   "metadata": {},
   "source": [
    "## Historical data client"
   ]
  },
  {
   "cell_type": "code",
   "execution_count": null,
   "id": "9c5f6d59-ef17-4a94-8ba2-b012cec3010d",
   "metadata": {},
   "outputs": [],
   "source": [
    "import databento as db"
   ]
  },
  {
   "cell_type": "code",
   "execution_count": null,
   "id": "6986408d-325f-4e65-aaea-dad7a32fbee0",
   "metadata": {},
   "outputs": [],
   "source": [
    "client = db.Historical(key=\"YOUR_ACCESS_KEY\")"
   ]
  },
  {
   "cell_type": "markdown",
   "id": "59a93931-4128-43e1-88d0-faaa5e4831e1",
   "metadata": {},
   "source": [
    "We can always call `help` to view the 'docstring' for any class or method."
   ]
  },
  {
   "cell_type": "code",
   "execution_count": null,
   "id": "d4a12f0b-7131-48d7-a979-7ffa376df6ff",
   "metadata": {},
   "outputs": [],
   "source": [
    "help(client.timeseries.stream)"
   ]
  },
  {
   "cell_type": "code",
   "execution_count": null,
   "id": "fe88dd07-968a-421c-a946-1f73cb9576e5",
   "metadata": {},
   "outputs": [],
   "source": [
    "import time\n",
    "\n",
    "t0 = time.time()\n",
    "\n",
    "data = client.timeseries.stream(\n",
    "    dataset=\"GLBX.MDP3\",\n",
    "    symbols=\"ESH1\",\n",
    "    stype_in=\"native\",\n",
    "    schema=\"mbo\",\n",
    "    start=\"2020-12-28\",\n",
    "    end=\"2020-12-30\",\n",
    "    encoding=\"dbz\",\n",
    "    compression=\"zstd\",\n",
    "    limit=1000,\n",
    ")\n",
    "\n",
    "print(time.time() - t0)"
   ]
  },
  {
   "cell_type": "code",
   "execution_count": null,
   "id": "cd12932a-1be2-475f-b2f4-d1ad581d2ac8",
   "metadata": {},
   "outputs": [],
   "source": []
  }
 ],
 "metadata": {
  "kernelspec": {
   "display_name": "Python 3 (ipykernel)",
   "language": "python",
   "name": "python3"
  },
  "language_info": {
   "codemirror_mode": {
    "name": "ipython",
    "version": 3
   },
   "file_extension": ".py",
   "mimetype": "text/x-python",
   "name": "python",
   "nbconvert_exporter": "python",
   "pygments_lexer": "ipython3",
   "version": "3.7.13"
  }
 },
 "nbformat": 4,
 "nbformat_minor": 5
}
