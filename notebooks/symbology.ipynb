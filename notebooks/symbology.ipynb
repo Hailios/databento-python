{
 "cells": [
  {
   "cell_type": "markdown",
   "id": "351ae2bc-c9d9-4fab-870d-2fc8cdf51d55",
   "metadata": {
    "pycharm": {
     "name": "#%% md\n"
    }
   },
   "source": [
    "# Databento symbology\n",
    "\n",
    "**Welcome to the Databento client library symbology tutorial!**\n",
    "\n",
    "We'll walk through how to request and work with symbology mappings, and how we can apply these to time series data.\n",
    "\n",
    "**Note:** \n",
    "\n",
    "For information on our symbology, refer to https://docs.databento.com/reference-historical/basics/symbology. \n",
    "\n",
    "For a more detailed API reference, refer to https://docs.databento.com/reference-historical.\n",
    "\n",
    "This tutorial covers the following:\n",
    "- Using the historical client to request symbology mappings\n",
    "- Using the mappings to add a native symbol column to time series data\n",
    "\n",
    "**Tip:** You can call help() on any class or method to see the 'docstring'."
   ]
  },
  {
   "cell_type": "markdown",
   "id": "f78bce81-8fb6-40c3-afd3-145505a0ef54",
   "metadata": {
    "pycharm": {
     "name": "#%% md\n"
    }
   },
   "source": [
    "## Installation and setup"
   ]
  },
  {
   "cell_type": "markdown",
   "id": "e1cd06c1-fa62-47db-b0ce-1a7d8ce972e6",
   "metadata": {
    "pycharm": {
     "name": "#%% md\n"
    }
   },
   "source": [
    "Firtly, ensure you have the latest `databento` client library installed:\n",
    "```bash\n",
    "pip install -U databento\n",
    "```"
   ]
  },
  {
   "cell_type": "markdown",
   "id": "48add574-faa0-4277-ab80-ffa085ecb9e9",
   "metadata": {
    "pycharm": {
     "name": "#%% md\n"
    }
   },
   "source": [
    "## Historical data client\n",
    "\n",
    "Once you've installed the Python client library, you can import it and initialize a historical client for requests. We'll use this `client` throughout the rest of the tutorial.\n",
    "\n",
    "To initialize a client, you need to provide a valid API key. You can find these on the API Keys page of your Databento portal at https://databento.com."
   ]
  },
  {
   "cell_type": "code",
   "execution_count": 33,
   "id": "8c4cf7b3-27f4-4636-96c8-e9145b8165d7",
   "metadata": {
    "pycharm": {
     "name": "#%%\n"
    }
   },
   "outputs": [],
   "source": [
    "import databento as db\n",
    "\n",
    "client = db.Historical(key=\"YOUR_API_KEY\")"
   ]
  },
  {
   "cell_type": "markdown",
   "id": "d5cf92a9-66c2-4aa8-a811-6eb09e1da5ae",
   "metadata": {
    "pycharm": {
     "name": "#%% md\n"
    }
   },
   "source": [
    "## Requesting time series data\n",
    "\n",
    "Firstly, we'll request `trades` time series data for CME Globex MDP 3.0 dataset, for some highly liquid futures outrights."
   ]
  },
  {
   "cell_type": "code",
   "execution_count": 21,
   "id": "8599a57c-6c97-4eff-acb4-f7eaa4f60f05",
   "metadata": {
    "pycharm": {
     "name": "#%%\n"
    }
   },
   "outputs": [],
   "source": [
    "data = client.timeseries.stream(\n",
    "    dataset=\"GLBX.MDP3\",\n",
    "    symbols=\"ESH1,GEH1,CLH1,6BH1\",\n",
    "    schema=\"trades\",\n",
    "    start=\"2020-12-27\",\n",
    "    end=\"2020-12-30\",\n",
    "    limit=1000,  # <-- request limited to 1000 records\n",
    ")"
   ]
  },
  {
   "cell_type": "markdown",
   "id": "8648e144-edec-4896-8d73-4f6a60d02dae",
   "metadata": {
    "pycharm": {
     "name": "#%% md\n"
    }
   },
   "source": [
    "## Requesting symbology resolution\n",
    "\n",
    "If we'd like to know the native symbol for each trade, we'll have to request to resolve the mappings from the native symbology we queried to the product IDs contained in the data records.\n",
    "In the near future it will be possible to specify an `stype_out` of **native**, which will append the native symbol to every data record."
   ]
  },
  {
   "cell_type": "code",
   "execution_count": 25,
   "id": "62b95353-760c-4b18-9e5a-70bb5ac7ecf6",
   "metadata": {
    "pycharm": {
     "name": "#%%\n"
    }
   },
   "outputs": [
    {
     "data": {
      "text/plain": [
       "{'result': {'ESH1': [{'d0': '2020-12-27', 'd1': '2020-12-30', 's': '5482'}],\n",
       "  'GEH1': [{'d0': '2020-12-27', 'd1': '2020-12-30', 's': '895045'}],\n",
       "  'CLH1': [{'d0': '2020-12-27', 'd1': '2020-12-30', 's': '169953'}],\n",
       "  '6BH1': [{'d0': '2020-12-27', 'd1': '2020-12-30', 's': '8382'}]},\n",
       " 'symbols': ['ESH1', 'GEH1', 'CLH1', '6BH1'],\n",
       " 'stype_in': 'native',\n",
       " 'stype_out': 'product_id',\n",
       " 'start_date': '2020-12-27',\n",
       " 'end_date': '2020-12-30',\n",
       " 'partial': [],\n",
       " 'not_found': [],\n",
       " 'message': 'OK',\n",
       " 'status': 0}"
      ]
     },
     "execution_count": 25,
     "metadata": {},
     "output_type": "execute_result"
    }
   ],
   "source": [
    "response = client.symbology.resolve(\n",
    "    dataset=\"GLBX.MDP3\",\n",
    "    symbols=\"ESH1,GEH1,CLH1,6BH1\",\n",
    "    stype_in=\"native\",\n",
    "    stype_out=\"product_id\",\n",
    "    start_date=\"2020-12-27\",\n",
    "    end_date=\"2020-12-30\",\n",
    ")\n",
    "\n",
    "response"
   ]
  },
  {
   "cell_type": "markdown",
   "id": "a9dfa753-66dc-4125-b6df-c8c59253cee4",
   "metadata": {
    "pycharm": {
     "name": "#%% md\n"
    }
   },
   "source": [
    "## Using symbology mappings\n",
    "\n",
    "Now that we have some symbology mappings we can use these to create a column of native symbols to help us identify the product for each trade."
   ]
  },
  {
   "cell_type": "code",
   "execution_count": 28,
   "id": "978ca971-3990-466d-b0db-d70716729311",
   "metadata": {
    "pycharm": {
     "name": "#%%\n"
    }
   },
   "outputs": [
    {
     "data": {
      "text/plain": [
       "{'ESH1': [{'d0': '2020-12-27', 'd1': '2020-12-30', 's': '5482'}],\n",
       " 'GEH1': [{'d0': '2020-12-27', 'd1': '2020-12-30', 's': '895045'}],\n",
       " 'CLH1': [{'d0': '2020-12-27', 'd1': '2020-12-30', 's': '169953'}],\n",
       " '6BH1': [{'d0': '2020-12-27', 'd1': '2020-12-30', 's': '8382'}]}"
      ]
     },
     "execution_count": 28,
     "metadata": {},
     "output_type": "execute_result"
    }
   ],
   "source": [
    "mappings = response[\"result\"]\n",
    "mappings"
   ]
  },
  {
   "cell_type": "markdown",
   "id": "9906230d-2483-494a-89cb-053c4b16bd8c",
   "metadata": {
    "pycharm": {
     "name": "#%% md\n"
    }
   },
   "source": [
    "Given there is only one mapping for each product for the entire time range of three days. Lets create a simple index of `product_id` to `native` symbol."
   ]
  },
  {
   "cell_type": "code",
   "execution_count": 31,
   "id": "07225bec-65e7-4a9c-b0c1-7d9752fa22a4",
   "metadata": {
    "pycharm": {
     "name": "#%%\n"
    }
   },
   "outputs": [
    {
     "data": {
      "text/plain": [
       "{5482: 'ESH1', 895045: 'GEH1', 169953: 'CLH1', 8382: '6BH1'}"
      ]
     },
     "execution_count": 31,
     "metadata": {},
     "output_type": "execute_result"
    }
   ],
   "source": [
    "index = {int(v[0][\"s\"]): k for k, v in mappings.items()}\n",
    "index"
   ]
  },
  {
   "cell_type": "code",
   "execution_count": null,
   "id": "06f713bc-dd35-436b-b3f7-cfc9c8b80cd7",
   "metadata": {
    "pycharm": {
     "name": "#%%\n"
    }
   },
   "outputs": [],
   "source": [
    "data[\"symbol\"] = index[data[\"product_id\"]]"
   ]
  },
  {
   "cell_type": "code",
   "execution_count": null,
   "id": "fab19d01-b680-4321-afe0-48207ecae377",
   "metadata": {
    "pycharm": {
     "name": "#%%\n"
    }
   },
   "outputs": [],
   "source": []
  }
 ],
 "metadata": {
  "kernelspec": {
   "display_name": "Python 3 (ipykernel)",
   "language": "python",
   "name": "python3"
  },
  "language_info": {
   "codemirror_mode": {
    "name": "ipython",
    "version": 3
   },
   "file_extension": ".py",
   "mimetype": "text/x-python",
   "name": "python",
   "nbconvert_exporter": "python",
   "pygments_lexer": "ipython3",
   "version": "3.9.13"
  }
 },
 "nbformat": 4,
 "nbformat_minor": 5
}